{
  "cells": [
    {
      "cell_type": "markdown",
      "metadata": {
        "id": "ZHqEL9ul_-NU"
      },
      "source": [
        "\n",
        "<br>\n",
        "<font>\n",
        "<!-- <img src=\"https://cdn.freebiesupply.com/logos/large/2x/sharif-logo-png-transparent.png\" alt=\"SUT logo\" width=300 height=300 align=left class=\"saturate\"> -->\n",
        "<div dir=ltr align=center>\n",
        "<img src=\"https://cdn.freebiesupply.com/logos/large/2x/sharif-logo-png-transparent.png\" width=200 height=200>\n",
        "<br>\n",
        "<font color=0F5298 size=7>\n",
        "Linear Algebra <br>\n",
        "<font color=2565AE size=5>\n",
        "Computer Engineering Department <br>\n",
        "Spring 2024<br>\n",
        "<font color=3C99D size=5>\n",
        "Practical Assignment 2 <br>\n",
        "<font color=696880 size=4>\n",
        "<!-- <br> -->\n",
        "Ashkan Majidi - Mahdi Alinejad - Keyhan Hodaei - Mohammad Mahdi Abedian - Mohammad Farhan Bahrami - Mohammadhossein salimi\n",
        "\n",
        "____"
      ]
    },
    {
      "cell_type": "markdown",
      "metadata": {
        "id": "KANP68Jh_-NV"
      },
      "source": [
        "# Personal Data"
      ]
    },
    {
      "cell_type": "code",
      "execution_count": null,
      "metadata": {
        "id": "vW5MEzUe_-NV"
      },
      "outputs": [],
      "source": [
        "student_number = '401105775'\n",
        "first_name = 'Rozhin'\n",
        "last_name = 'Taghizadegan'"
      ]
    },
    {
      "cell_type": "markdown",
      "metadata": {
        "id": "dWAd1e22_-NW"
      },
      "source": [
        "# Introduction"
      ]
    },
    {
      "cell_type": "markdown",
      "metadata": {
        "id": "5lj-PC9l_-NW"
      },
      "source": [
        "In this assignment, you will implement some Algorithms and topics which you've already learned their theoretical foundations in the class. Note that **you are not allowed to use `numpy.linalg` functions in this notebook**."
      ]
    },
    {
      "cell_type": "markdown",
      "metadata": {
        "id": "zSOJolPq_-NW"
      },
      "source": [
        "Import your needed libraries here."
      ]
    },
    {
      "cell_type": "code",
      "execution_count": 41,
      "metadata": {
        "id": "bESMxYr-_-NW"
      },
      "outputs": [],
      "source": [
        "import tester\n",
        "import numpy as np\n",
        "import math\n",
        "import plotly.graph_objs as go\n",
        "import matplotlib.pyplot as plt\n",
        "\n",
        "# TODO: write your code here"
      ]
    },
    {
      "cell_type": "markdown",
      "metadata": {
        "id": "sM5S9mwW_-NW"
      },
      "source": [
        "# Q1: System of Equations (20 + 20 Points)"
      ]
    },
    {
      "cell_type": "markdown",
      "metadata": {
        "id": "Cx3JtLke_-NW"
      },
      "source": [
        "In this part, you are going to solve a system of equations using the Gauss-Jordan elimination method. You will also use the results to find the conic section that fits the given data points."
      ]
    },
    {
      "cell_type": "markdown",
      "metadata": {
        "id": "ni_bT_Dk_-NW"
      },
      "source": [
        "First, write a function that gets an augmented matrix as its input and then returns the results if the matrix could be solved using the Gauss-Jordan elimination method. If the matrix could not be solved, the function should return an appropriate error message.  "
      ]
    },
    {
      "cell_type": "code",
      "execution_count": 45,
      "metadata": {
        "id": "a8-Ny4pF_-NW"
      },
      "outputs": [],
      "source": [
        "def solve(A, b):\n",
        "    #TODO: check if the matrix is solvable\n",
        "    #TODO: if it's not solvable, return an error message\n",
        "    #TODO: else, find the row reduced echelon form of the matrix and return the results of the matrix\n",
        "\n",
        "    n = len(A)\n",
        "    augmenter_matrix = np.column_stack((A, b))\n",
        "\n",
        "    for i in range(n):\n",
        "        if augmenter_matrix[i, i] == 0:\n",
        "            for j in range(i + 1, n):\n",
        "                if augmenter_matrix[j, i] != 0:\n",
        "                    augmenter_matrix[[i, j]] = augmenter_matrix[[j, i]]\n",
        "                    break\n",
        "            else:\n",
        "                return \"Singular Matrix! Cannot Be Inverter!\"\n",
        "\n",
        "        augmenter_matrix[i] = augmenter_matrix[i] / augmenter_matrix[i, i]\n",
        "\n",
        "        for k in range(n):\n",
        "            if k != i:\n",
        "                augmenter_matrix[k] = augmenter_matrix[k] - augmenter_matrix[k, i] * augmenter_matrix[i]\n",
        "\n",
        "    return augmenter_matrix[:, n:]"
      ]
    },
    {
      "cell_type": "markdown",
      "metadata": {
        "id": "HsajCvT0_-NW"
      },
      "source": [
        "Consider the [Ecliptic Coordinate System](https://en.wikipedia.org/wiki/Ecliptic_coordinate_system) in astronomy. The coordinates of a star in this system are given as $(\\lambda, \\beta)$, where $\\lambda$ is the ecliptic longitude and $\\beta$ is the ecliptic latitude.\n",
        "\n",
        "We will give you the position vectors of an astronomical object with respect to a distant observer for five different [true anomalies](https://en.wikipedia.org/wiki/True_anomaly).\n",
        "\n",
        "Consider the [Conic Sections](https://en.wikipedia.org/wiki/Conic_section) in mathematics. The general form of a conic section is given as $Ax^2 + Bxy + Cy^2 + Dx + Ey + F = 0$. Every orbit of astronomical objects (such as planets, asteroids, comets, etc.) is a conic section. Conic sections are classified into four types: ellipse, parabola, hyperbola, and circle.\n",
        "\n",
        "Fit a surface to the given points.\n",
        "\n",
        "Surface equation: $Ax + By+ Cz + D = 0$.\n",
        "We take the value of C as one, and we obtain the values of A, B, and D using the following system of equations.\n",
        "\n",
        "\\begin{align*}\n",
        "\\sum_{i=1}^{N} z_i &= -B \\sum_{i=1}^{N} y_i - A \\sum_{i=1}^{N} x_i - D N \\\\\n",
        "\\sum_{i=1}^{N} z_i y_i &= -B \\sum_{i=1}^{N} y_i^2 - A \\sum_{i=1}^{N} x_i y_i - D \\sum_{i=1}^{N} y_i \\\\\n",
        "\\sum_{i=1}^{N} z_i x_i &= -B \\sum_{i=1}^{N} x_i y_i - A \\sum_{i=1}^{N} x_i^2 - D \\sum_{i=1}^{N} x_i\n",
        "\\end{align*}\n",
        "\n"
      ]
    },
    {
      "cell_type": "code",
      "execution_count": 52,
      "metadata": {
        "colab": {
          "base_uri": "https://localhost:8080/"
        },
        "id": "MDZhLHp-_-NW",
        "outputId": "f746f23d-3ee5-4065-87e3-c19ab334e135"
      },
      "outputs": [
        {
          "output_type": "stream",
          "name": "stdout",
          "text": [
            "[[-69.98522561 -29.6929716   -0.97627515]\n",
            " [-70.14599665 -29.71727794  -0.96350419]\n",
            " [-70.32870803 -29.86443759  -0.95875521]\n",
            " [-70.2476123  -30.38700236  -1.00888661]\n",
            " [-69.79940813 -30.38844553  -1.05014337]]\n"
          ]
        }
      ],
      "source": [
        "vectors = tester.vectors[0]\n",
        "print(vectors)"
      ]
    },
    {
      "cell_type": "code",
      "execution_count": 53,
      "metadata": {
        "colab": {
          "base_uri": "https://localhost:8080/"
        },
        "id": "pbVs85K-_-NW",
        "outputId": "0f148b65-a27f-47e5-fe4e-f7cd7b4016dc"
      },
      "outputs": [
        {
          "output_type": "stream",
          "name": "stdout",
          "text": [
            "[ 0.09178599 -0.0816893   1.          4.97434059]\n"
          ]
        }
      ],
      "source": [
        "def surface_fit(vectors):\n",
        "    #TODO: return A, B, C, D\n",
        "    sigma_x = np.sum(vectors[:, 0])\n",
        "    sigma_y = np.sum(vectors[:, 1])\n",
        "    sigma_z = np.sum(vectors[:, 2])\n",
        "    sigma_x2 = np.sum(vectors[:, 0] ** 2)\n",
        "    sigma_y2 = np.sum(vectors[:, 1] ** 2)\n",
        "    sigma_xy = np.sum(vectors[:, 0] * vectors[:, 1])\n",
        "    sigma_zx = np.sum(vectors[:, 0] * vectors[:, 2])\n",
        "    sigma_zy = np.sum(vectors[:, 1] * vectors[:, 2])\n",
        "\n",
        "    coefficient = np.array([[-len(vectors), -sigma_x, -sigma_y],\n",
        "                            [-sigma_y, -sigma_xy, -sigma_y2],\n",
        "                            [-sigma_x, -sigma_x2, -sigma_xy]])\n",
        "    answer = np.array([[sigma_z], [sigma_zy], [sigma_zx]])\n",
        "\n",
        "    d, a, b = solve(coefficient, answer)\n",
        "    c = (-(a * vectors[0][0]) - (b * vectors[0][1]) - d) / vectors[0][2]\n",
        "    return np.array([a, b, c, d]).reshape(-1)\n",
        "\n",
        "print(surface_fit(vectors))"
      ]
    },
    {
      "cell_type": "markdown",
      "metadata": {
        "id": "ttJRdooI_-NX"
      },
      "source": [
        "### **From this cell to the end of Q1 Tasks are optional and have extra points.**"
      ]
    },
    {
      "cell_type": "markdown",
      "metadata": {
        "id": "_pVXDyAb_-NX"
      },
      "source": [
        "Retrieve the normal vector of the obtained surface."
      ]
    },
    {
      "cell_type": "code",
      "execution_count": 54,
      "metadata": {
        "colab": {
          "base_uri": "https://localhost:8080/"
        },
        "id": "aJ8H1QHn_-NX",
        "outputId": "b50bc16e-29ab-41b8-9da6-d285164be464"
      },
      "outputs": [
        {
          "output_type": "stream",
          "name": "stdout",
          "text": [
            "[ 0.09178599 -0.0816893   1.        ]\n"
          ]
        }
      ],
      "source": [
        "def get_normal_vector(A, B, C, D):\n",
        "    #TODO: return the normal vector of the surface\n",
        "    return np.array([A, B, C]).reshape(-1)\n",
        "\n",
        "A, B, C, D = surface_fit(vectors)\n",
        "normal_vector = get_normal_vector(A, B, C, D)\n",
        "print(normal_vector)"
      ]
    },
    {
      "cell_type": "markdown",
      "metadata": {
        "id": "szHuIGPj_-NX"
      },
      "source": [
        "[Longitude of the Ascending Node](https://en.wikipedia.org/wiki/Longitude_of_the_ascending_node#:~:text=The%20longitude%20of%20the%20ascending,in%20a%20specified%20reference%20plane): The angle measured along the ecliptic plane from the [vernal equinox](https://en.wikipedia.org/wiki/Equinox) to the point where the orbit crosses the ecliptic plane from south to north.\n",
        "\n",
        "[Inclination](https://en.wikipedia.org/wiki/Orbital_inclination): The angle between the orbital plane of a celestial body (such as a planet or satellite) and a reference plane, usually the ecliptic plane for objects in the solar system. It is measured in degrees and indicates how tilted the orbit is relative to the reference plane.\n",
        "\n",
        "Find Inclination and Longitude of the Ascending Node of the orbit."
      ]
    },
    {
      "cell_type": "code",
      "execution_count": 55,
      "metadata": {
        "id": "wGQ3FRo2_-NX",
        "outputId": "82b5a46b-15b3-43a3-86cd-22e895b2ba67",
        "colab": {
          "base_uri": "https://localhost:8080/"
        }
      },
      "outputs": [
        {
          "output_type": "stream",
          "name": "stdout",
          "text": [
            "Inclination is: 7.005\n",
            "longitude of ascending node is:  48.331\n"
          ]
        }
      ],
      "source": [
        "def angle_of_vectors(u, v):\n",
        "    #TODO: return the angle between two vectors u and v\n",
        "    norm_u = np.sqrt(np.sum(u ** 2))\n",
        "    norm_v = np.sqrt(np.sum(v ** 2))\n",
        "    angle = np.arccos(np.dot(u, v) / (norm_u * norm_v))\n",
        "    return np.rad2deg(angle)\n",
        "\n",
        "def find_inclination(normal_vec):\n",
        "    #TODO: return the inclination of the orbit\n",
        "    #TODO: the angle between the z-axis and the normal vector\n",
        "    z_axis = np.array([0, 0, 1]).reshape(-1)\n",
        "    return angle_of_vectors(normal_vec, z_axis)\n",
        "\n",
        "def find_longitude_of_ascending_node(normal_vec):\n",
        "    #TODO: return the longitude of the ascending node\n",
        "    #TODO: store the angle between the x-axis and the projection of the normal vector on the xy plane in the angle variable\n",
        "    projection = np.array([normal_vec[0], normal_vec[1], 0]).reshape(-1)\n",
        "    x_axis = np.array([1, 0, 0]).reshape(-1)\n",
        "    angle = angle_of_vectors(projection, x_axis)\n",
        "    if normal_vec[1] <= 0:\n",
        "        return 90 - angle\n",
        "    return angle + 90\n",
        "\n",
        "inclination = find_inclination(normal_vector)\n",
        "longitude_of_ascending_node = find_longitude_of_ascending_node(normal_vector)\n",
        "\n",
        "print(\"Inclination is:\", round(inclination, 5))\n",
        "print(\"longitude of ascending node is: \", round(longitude_of_ascending_node, 5))"
      ]
    },
    {
      "cell_type": "markdown",
      "metadata": {
        "id": "Ed31Y5CX_-NX"
      },
      "source": [
        "Find a translation vector to translate coordinates system to the orbit's plane and then translate the coordinate system."
      ]
    },
    {
      "cell_type": "code",
      "execution_count": 56,
      "metadata": {
        "id": "cVLJv97k_-NX"
      },
      "outputs": [],
      "source": [
        "def translate(u, v):\n",
        "    #TODO: return the translation of vector u by vector v\n",
        "   return u + v\n",
        "\n",
        "#TODO: translate the vectors to the orbit's plane\n",
        "translation_vector = [0, 0, 1]\n",
        "vectors = [translate(vector, translation_vector) for vector in vectors]"
      ]
    },
    {
      "cell_type": "markdown",
      "metadata": {
        "id": "kB61bzQP_-NX"
      },
      "source": [
        "To align the xy plane of the coordinate system with the orbital plane, it needs to be rotated by an angle equal to `the ascending node longitude` around the `z-axis` and another rotation by an angle equal to the `orbital inclination` around the `x-axis`. First, write two functions to find the components of a vector in the rotated coordinate system around x and z axes, then find all vectors in the rotated coordinate system.<br>Hint: Use rotation matrices"
      ]
    },
    {
      "cell_type": "code",
      "execution_count": 57,
      "metadata": {
        "id": "5cCJc8W2_-NX"
      },
      "outputs": [],
      "source": [
        "# Some useful trigonometric functions\n",
        "def cos(x):\n",
        "    return math.cos(x * math.pi / 180)\n",
        "\n",
        "def acos(x):\n",
        "    return math.acos(x) * 180 / math.pi\n",
        "\n",
        "def sin(x):\n",
        "    return math.sin(x * math.pi / 180)\n",
        "\n",
        "def asin(x):\n",
        "    return math.asin(x) * 180 / math.pi\n",
        "\n",
        "def tan(x):\n",
        "    return math.tan(x * math.pi / 180)\n",
        "\n",
        "def atan(x):\n",
        "    return math.atan(x) * 180 / math.pi"
      ]
    },
    {
      "cell_type": "code",
      "execution_count": 58,
      "metadata": {
        "id": "QksMHpSM_-NX",
        "outputId": "e4ce44e0-77ea-4db8-a78c-821462e93e4c",
        "colab": {
          "base_uri": "https://localhost:8080/"
        }
      },
      "outputs": [
        {
          "output_type": "stream",
          "name": "stdout",
          "text": [
            "[array([-68.70860802,  32.29816804,   0.        ]), array([-68.83364962,  32.40288586,   0.        ]), array([-69.06504891,  32.44182596,   0.        ]), array([-69.40148918,  32.03076445,   0.        ]), array([-69.1045893,  31.6924722,   0.       ])]\n"
          ]
        }
      ],
      "source": [
        "def rotate_about_z(vector, x):\n",
        "    #TODO: find the z-axis rotation matrix\n",
        "    rotation_matrix = np.array([\n",
        "        [cos(x), -sin(x), 0],\n",
        "        [sin(x), cos(x), 0],\n",
        "        [0, 0, 1]\n",
        "    ])\n",
        "    #TODO: find the rotated vector by multiplying the rotation matrix and the vector\n",
        "    return np.dot(vector, rotation_matrix)\n",
        "def rotate_about_x(vector, x):\n",
        "    #TODO: find the x-axis rotation matrix\n",
        "    rotation_matrix = np.array([\n",
        "        [1, 0, 0],\n",
        "        [0, cos(x), -sin(x)],\n",
        "        [0, sin(x), cos(x)]\n",
        "    ])\n",
        "    #TODO: find the rotated vector by multiplying the rotation matrix and the vector\n",
        "    return np.dot(vector, rotation_matrix)\n",
        "def rotate_in_surface(vector):\n",
        "    #TODO: find the vector in the rotated coordinate system\n",
        "    rotated_vector_z = rotate_about_z(vector, longitude_of_ascending_node)\n",
        "    rotated_vector_xz = rotate_about_x(rotated_vector_z, inclination)\n",
        "    u = rotated_vector_xz\n",
        "    #TODO: return the vector in the rotated coordinate system\n",
        "    return u - np.array([0, 0, u[2]])\n",
        "\n",
        "#TODO: find all vectors in the rotated coordinate system\n",
        "#vectors = [translate(vector, translation_vector) for vector in vectors]\n",
        "in_surface_vectors = [rotate_in_surface(vector) for vector in vectors]\n",
        "print(in_surface_vectors)\n"
      ]
    },
    {
      "cell_type": "markdown",
      "metadata": {
        "id": "wO5Iwuaj_-NY"
      },
      "source": [
        "General equation of conic sections is:\n",
        "$Ax^2 + Bxy + Cy^2 + Dx + Ey + F = 0$<br>\n",
        "Find the coefficients A, B, C, D, and E in such a way that they satisfy the given data points.<br>\n",
        "consider that `F = 1`"
      ]
    },
    {
      "cell_type": "code",
      "execution_count": 59,
      "metadata": {
        "id": "WlEw8Lus_-NY",
        "colab": {
          "base_uri": "https://localhost:8080/"
        },
        "outputId": "b5beb1ad-1eef-4581-bfb2-82e99bf019c8"
      },
      "outputs": [
        {
          "output_type": "stream",
          "name": "stdout",
          "text": [
            "[-1.69570190e-04  6.30023361e-06 -1.73469197e-04 -2.36085749e-02\n",
            "  1.15593670e-02  1.00000000e+00]\n"
          ]
        }
      ],
      "source": [
        "def find_conic(vectors):\n",
        "    #TODO: use the conic section equation above to find the coefficients A, B, C, D, E\n",
        "    #TODO: return the coefficients A, B, C, D, E, F\n",
        "\n",
        "    n = len(vectors)\n",
        "    coefficient = np.zeros((n, 5))\n",
        "    answer = np.ones(n)\n",
        "\n",
        "    for i, (x, y, z) in enumerate(vectors):\n",
        "      coefficient[i] = [x**2, x*y, y**2, x, y]\n",
        "\n",
        "    return np.append(solve(coefficient, answer), 1)\n",
        "\n",
        "A, B, C, D, E, F = find_conic(in_surface_vectors)\n",
        "print(find_conic(in_surface_vectors))"
      ]
    },
    {
      "cell_type": "markdown",
      "metadata": {
        "id": "8y6t3OdL_-NY"
      },
      "source": [
        "In the standard equation of a conic section, the coefficient B is equal to zero. To standardize the equation, rotate your coordinate system by an angle $\\theta$ around the z-axis such that the following equation is satisfied:\n",
        "$tan(2\\theta) = \\frac{B} {A - C}$<br>\n",
        "Then, use the function you wrote to find the coefficients of the conic section."
      ]
    },
    {
      "cell_type": "code",
      "execution_count": null,
      "metadata": {
        "id": "RsmtBihq_-NY",
        "colab": {
          "base_uri": "https://localhost:8080/"
        },
        "outputId": "650d44e9-03be-4f9b-fd28-17868c2a2462"
      },
      "outputs": [
        {
          "output_type": "stream",
          "name": "stdout",
          "text": [
            "29.124000003972093\n",
            "29.124000003972093 0.00017128101381451343 0.00017243759790343163 0.0260375329248465 -0.003371189498401572\n"
          ]
        }
      ],
      "source": [
        "#TODO: find the rotation angle\n",
        "tan_2theta = B / (A - C)\n",
        "rotation_angle = atan(tan_2theta) / 2\n",
        "print(rotation_angle)\n",
        "#TODO: rotate the vectors by the rotation angle around z-axis\n",
        "rotated_vectors = rotate_about_z(vectors, rotation_angle)\n",
        "A, B, C, D, E, F = find_conic(rotated_vectors)\n",
        "#print your outputs (theta, A, C, D, E)\n",
        "print(rotation_angle, A, C, D, E)"
      ]
    },
    {
      "cell_type": "markdown",
      "metadata": {
        "id": "XmbaXZMR_-NY"
      },
      "source": [
        "Assume $\\Delta = B^2 - 4AC$<br>\n",
        "If $\\Delta < 0$, the conic section is ellipse or circle (for a circle, we have $A = C$).<br>\n",
        "If $\\Delta = 0$, the conic section is a parabola.<br>\n",
        "If $\\Delta > 0$, the conic section is a hyperbola.<br>\n",
        "If you want to do any comparison between these coefficients, it's better to round their values to 8 decimal places and then compare them.<br>\n",
        "|\n",
        "Write a function that identifies the type of a conic section based on the values of A, B, and C."
      ]
    },
    {
      "cell_type": "code",
      "execution_count": null,
      "metadata": {
        "id": "q_NPMgiv_-NY",
        "outputId": "be86705d-6f70-48b5-ef84-0bbf0a0d977d",
        "colab": {
          "base_uri": "https://localhost:8080/"
        }
      },
      "outputs": [
        {
          "output_type": "stream",
          "name": "stdout",
          "text": [
            "ellipse\n"
          ]
        }
      ],
      "source": [
        "def conic_type(A, B, C):\n",
        "    #TODO: find the value of delta, do the comparison and return the type of the conic section\n",
        "    delta = (B * B) - (4 * A * C)\n",
        "    if(delta < 0 and A == C):\n",
        "      return 'circle'\n",
        "    elif(delta < 0):\n",
        "      return 'ellipse'\n",
        "    elif (delta == 0):\n",
        "      return 'parabola'\n",
        "    elif(delta > 0):\n",
        "      return 'hyperbola'\n",
        "\n",
        "orbit_type = conic_type(A, B, C)\n",
        "print(orbit_type)"
      ]
    },
    {
      "cell_type": "markdown",
      "metadata": {
        "id": "yyitljnZ_-NY"
      },
      "source": [
        "[Eccentricity](https://en.wikipedia.org/wiki/Eccentricity_(mathematics)): The eccentricity of a conic section is a parameter that determines the conic section's shape.<br>\n",
        "For a circle, the eccentricity is 0.<br>\n",
        "For a parabola, the eccentricity is 1.<br>\n",
        "For an ellipse, the eccentricity is between 0 and 1.<br>\n",
        "For a hyperbola, the eccentricity is greater than 1.<br><br>\n",
        "An ellipse is denoted by the following equations:<br><br>\n",
        "$\\frac{(x-x_0)^2}{a^2} + \\frac{(y-y_0)^2}{b^2} = 1$ (the ellipse is horizontal)<br>\n",
        "$\\frac{(y-y_0)^2}{a^2} + \\frac{(x-x_0)^2}{b^2} = 1$ (the ellipse is vertical)<br><br>\n",
        "The eccentricity of an ellipse is:<br><br>\n",
        "$e = \\sqrt{1 - \\frac{b^2}{a^2}}$<br><br>\n",
        "Where $a$ is the semi-major axis of the ellipse and $b$ is the semi-minor axis of the ellipse.<br><br><br>\n",
        "A hyperbola is denoted by the following equations:<br><br>\n",
        "$\\frac{(x-x_0)^2}{a^2} - \\frac{(y-y_0)^2}{b^2} = 1$ (the hyperbola is horizontal)<br>\n",
        "$\\frac{(y-y_0)^2}{a^2} - \\frac{(x-x_0)^2}{b^2} = 1$ (the hyperbola is vertical)<br><br>\n",
        "The eccentricity of a hyperbola is:<br><br>\n",
        "$e = \\sqrt{1 + \\frac{b^2}{a^2}}$<br><br>\n",
        "Where $a$ is the semi-major axis of the hyperbola and $b$ is the semi-minor axis of the hyperbola.<br><br><br>\n",
        "A parabola is denoted by the following equations:<br><br>\n",
        "$(x-x_0)^2 = 4a(y-y_0)$ (the parabola is horizontal)<br>\n",
        "$(y-y_0)^2 = 4a(x-x_0)$ (the parabola is vertical)<br><br>\n",
        "The eccentricity of a parabola is 1.<br>\n",
        "Run the cell below to calculate the eccentricity of the orbit."
      ]
    },
    {
      "cell_type": "code",
      "execution_count": null,
      "metadata": {
        "id": "AmzADAsE_-NY",
        "outputId": "eb01976f-55b4-49eb-a4f5-576c28e6bc09",
        "colab": {
          "base_uri": "https://localhost:8080/"
        }
      },
      "outputs": [
        {
          "output_type": "stream",
          "name": "stdout",
          "text": [
            "0.0819\n"
          ]
        }
      ],
      "source": [
        "def find_eccentricity(A, C):\n",
        "    orbit_type = conic_type(A, 0, C)\n",
        "    if orbit_type == \"circle\":\n",
        "        return 0\n",
        "    if orbit_type == \"parabola\":\n",
        "        return 1\n",
        "    if orbit_type == \"ellipse\":\n",
        "        A = abs(A)\n",
        "        C = abs(C)\n",
        "        return (1 - (min(A, C) / max(A, C))) ** 0.5\n",
        "    if A > 0:\n",
        "        return math.sqrt(1 + A / -C)\n",
        "    return math.sqrt(1 + C / -A)\n",
        "\n",
        "e = round(find_eccentricity(A, C), 5)\n",
        "print(e)"
      ]
    },
    {
      "cell_type": "markdown",
      "metadata": {
        "id": "xbZNbdFV_-NY"
      },
      "source": [
        "[Semi-major axis](https://en.wikipedia.org/wiki/Semi-major_and_semi-minor_axes): The semi-major axis of an orbit is its longest radius, denoted by $a$.<br>\n",
        "Run the following cell to find the semi-major axis of the orbit."
      ]
    },
    {
      "cell_type": "code",
      "execution_count": null,
      "metadata": {
        "id": "J1McWfk2_-NY",
        "outputId": "d71ceb07-790b-4522-cf77-c3d18d4065ca",
        "colab": {
          "base_uri": "https://localhost:8080/"
        }
      },
      "outputs": [
        {
          "output_type": "stream",
          "name": "stdout",
          "text": [
            "153.2894\n"
          ]
        }
      ],
      "source": [
        "def find_semi_major_axis(A, C, D, E):\n",
        "    if find_eccentricity(A, C) != 1:\n",
        "        x0 = -D/(2 * A)\n",
        "        y0 = -E / (2 * C)\n",
        "        standard_vectors = [translate(vec, [x0, y0, 0]) for vec in rotated_vectors]\n",
        "        A, B, C, D, E, F = find_conic(standard_vectors)\n",
        "    e = find_eccentricity(A, C)\n",
        "    if e == 0:\n",
        "        return 1/math.sqrt(A)\n",
        "    if e < 1:\n",
        "        if abs(A) < abs(C):\n",
        "            return math.sqrt(1 / A)\n",
        "        return math.sqrt(1 / C)\n",
        "    if e > 1:\n",
        "        if A > 0:\n",
        "            return math.sqrt(1 / A)\n",
        "        else:\n",
        "            return math.sqrt(1 / C)\n",
        "    if abs(A) < abs(C):\n",
        "        return abs(D / (4 * C))\n",
        "    return abs(E / (4 * A))\n",
        "\n",
        "a = round(find_semi_major_axis(A, C, D, E), 4)\n",
        "print(a)"
      ]
    },
    {
      "cell_type": "markdown",
      "metadata": {
        "id": "Y6Mn_AOL_-NY"
      },
      "source": [
        "Locate the Sun and plot the orbit.<br>\n",
        "Hint: The Sun is located at one of the foci of the orbit (if the orbit has two foci, choose one of them)."
      ]
    },
    {
      "cell_type": "code",
      "execution_count": null,
      "metadata": {
        "id": "e2m-HCo5_-NZ",
        "outputId": "41b61988-9caa-4bef-d355-c41c5e2ffab2",
        "colab": {
          "base_uri": "https://localhost:8080/",
          "height": 830
        }
      },
      "outputs": [
        {
          "output_type": "display_data",
          "data": {
            "text/plain": [
              "<Figure size 1000x1000 with 1 Axes>"
            ],
            "image/png": "[encoded data removed]"
          },
          "metadata": {}
        }
      ],
      "source": [
        "f = plt.figure()\n",
        "f.set_figwidth(10)\n",
        "f.set_figheight(10)\n",
        "plt.grid(color='lightgray',linestyle='--')\n",
        "def axes():\n",
        "    plt.axhline(0, alpha=.1)\n",
        "    plt.axvline(0, alpha=.1)\n",
        "if orbit_type == \"ellipse\" or orbit_type == \"circle\":\n",
        "    b = a * (1- e ** 2) ** 0.5\n",
        "    t = np.linspace(0, 2*math.pi, 100)\n",
        "    plt.xlim([-1.2 * a, 1.2 * a])\n",
        "    plt.ylim([-1.2 * a, 1.2 * a])\n",
        "    plt.plot(a*np.cos(t) , b*np.sin(t), color = \"green\")\n",
        "elif orbit_type == \"parabola\":\n",
        "    x = np.linspace(0, 10 * a, 400)\n",
        "    y = np.linspace(- 5 * a, 5 * a, 400)\n",
        "    plt.xlim([-0.2 * a, 10.2 * a])\n",
        "    plt.ylim([-5.2 * a, 5.2 * a])\n",
        "    x, y = np.meshgrid(x, y)\n",
        "    axes()\n",
        "    plt.contour(x, y, (y**2 - 4*a*x), [0], colors='green')\n",
        "else:\n",
        "    b = a * math.sqrt(e ** 2 - 1)\n",
        "    t = np.linspace(0, 2)\n",
        "    plt.plot( a*np.cosh(t) , b*np.sinh(t) , color = \"green\")\n",
        "    plt.plot( a*np.cosh(t) , -b*np.sinh(t) , color = \"green\")\n",
        "    plt.plot( -a*np.cosh(t) , b*np.sinh(t) , color = \"green\")\n",
        "    plt.plot( -a*np.cosh(t) , -b*np.sinh(t) , color = \"green\")\n",
        "    plt.xlim([-1.2 * a * math.cosh(2), 1.2 * a* math.cosh(2)])\n",
        "    plt.ylim([-1.2 * a * math.cosh(2), 1.2 * a * math.cosh(2)])\n",
        "\n",
        "plt.plot(a * e,0,'ro', label = \"sun\")\n",
        "plt.annotate(\"sun\", (a * e, 0.04 * a), size = 20)\n",
        "plt.show()"
      ]
    },
    {
      "cell_type": "markdown",
      "metadata": {
        "id": "rVgO9A4W_-NZ"
      },
      "source": [
        "# Q2: Gram-Schmidt (40 Points)"
      ]
    },
    {
      "cell_type": "markdown",
      "metadata": {
        "id": "NudAqfRq_-NZ"
      },
      "source": [
        "The Gram-Schmidt process is a mathematical technique used to transform a set of linearly independent vectors into an orthogonal (or orthonormal) set of vectors. It is commonly used in linear algebra and numerical computations.\n",
        "\n",
        "Now we want to implement Gram-Schmidt process so that given a set of linearly independent vectors $a_1, a_2, \\cdots, a_k$, output should be orthonormal vectors $q_1, q_2, \\cdots, q_k$ .\n"
      ]
    },
    {
      "cell_type": "code",
      "execution_count": 37,
      "metadata": {
        "id": "khaBM2sX_-NZ"
      },
      "outputs": [],
      "source": [
        "def gram_schmidt(A: np.ndarray):\n",
        "    \"\"\"\n",
        "    A: matrix with columns a_1, a_2, ..., a_k.\n",
        "    output: matrix Q with columns q_1, q_2, ..., q_k.\n",
        "    \"\"\"\n",
        "\n",
        "    A = A.T\n",
        "    result_vectors = []\n",
        "\n",
        "    for i in range(0, len(A)):\n",
        "        temp_vector = A[i]\n",
        "        for j in range(0, i):\n",
        "            dot_product = np.dot(A[i], result_vectors[j])\n",
        "            temp_vector = temp_vector - (dot_product * result_vectors[j])\n",
        "        norm = np.sqrt(np.sum(temp_vector ** 2))\n",
        "        result_vectors.append(temp_vector / norm)\n",
        "\n",
        "    return np.array(result_vectors).T"
      ]
    },
    {
      "cell_type": "code",
      "execution_count": 38,
      "metadata": {
        "id": "RMWKgjgn_-Nh",
        "colab": {
          "base_uri": "https://localhost:8080/"
        },
        "outputId": "80d17731-4344-433c-8de7-5b303d79df42"
      },
      "outputs": [
        {
          "output_type": "stream",
          "name": "stdout",
          "text": [
            "test 1:\n",
            "\u001b[32mPassed!\u001b[0m\n",
            "---------------\n",
            "test 2:\n",
            "\u001b[32mPassed!\u001b[0m\n",
            "---------------\n"
          ]
        }
      ],
      "source": [
        "A1 = np.array([[5, -1, 12, 3], [2, -15, 4, 9], [2, -2, 7, -4], [0, 8, 1, 11]])\n",
        "A2 = np.array([[1, 2, 0], [8, 1, -6], [-3, 12, 1]])\n",
        "\n",
        "B1 = gram_schmidt(A1)\n",
        "B2 = gram_schmidt(A2)\n",
        "\n",
        "#code for check norm and orthogonality\n",
        "'''for i in range(0, len(B1)):\n",
        "  for j in range(i, len(B1)):\n",
        "    print(np.dot(B1[i], B1[j]))'''\n",
        "'''for i in range(0, len(B2)):\n",
        "  for j in range(i, len(B2)):\n",
        "    print(np.dot(B2[i], B2[j]))'''\n",
        "\n",
        "print(\"test 1:\")\n",
        "tester.gram_schmidt_test(A1, B1)\n",
        "print(\"test 2:\")\n",
        "tester.gram_schmidt_test(A2, B2)"
      ]
    },
    {
      "cell_type": "markdown",
      "metadata": {
        "id": "YsAAnYLe_-Nh"
      },
      "source": [
        "Now we want to visualise this process in 3D space. The `vector_plot` function takes a list of vectors and visualizes them in 3D space. Here’s how it works:\n",
        "\n",
        "Input Parameters:\n",
        "\n",
        "- <strong>tvects:</strong> A list of vectors (each represented as a 3-tuple or array).<br>\n",
        "- <strong>is_vect:</strong> A boolean flag indicating whether the input vectors are true vectors (default is True).<br>\n",
        "- <strong>orig:</strong> The origin point (default is [0, 0, 0]).<br>\n",
        "\n",
        "Steps:\n",
        "\n",
        "- Create a 6-tuple array (coords) to store the coordinates of the vectors.\n",
        "<br>\n",
        "- For each vector in tvects:\n",
        "<br><br>\n",
        "Extract the first and second 3-tuples to represent the beginning and end points of the vector.<br>\n",
        "Use Scatter3d from Plotly to create a vector visualization with appropriate coloring, size, and other properties.<br>\n",
        "Add the vector to the data list.<br>\n",
        "<br>\n",
        "- Set the layout for the 3D plot.\n",
        "<br>\n",
        "- Create the figure and display it using fig.show()."
      ]
    },
    {
      "cell_type": "code",
      "execution_count": 39,
      "metadata": {
        "id": "xN4NvJMc_-Nh"
      },
      "outputs": [],
      "source": [
        "def vector_plot(tvects: np.ndarray, is_vect=True, orig=[0, 0, 0]):\n",
        "\n",
        "    # TODO make a 6-tuple array for coords from the input vectors\n",
        "    coords = np.zeros((len(tvects), 6))\n",
        "    orig = np.array(orig)\n",
        "    for i, vect in enumerate(tvects):\n",
        "      coords[i] = np.concatenate((orig, vect))\n",
        "\n",
        "    # write your code here\n",
        "    data = []\n",
        "    colors = ['blue', 'red', 'green']\n",
        "\n",
        "    for i, c in enumerate(coords):\n",
        "        # TODO save first and second 3-tuple of each coord to have begin and end of each vector\n",
        "        # TODO make a vector by use Scatter3d in plotly.graph_objs with coloring and size and ... the vector\n",
        "        # TODO then save the vector in data[]\n",
        "        # write your code here\n",
        "        start = c[:3]\n",
        "        end = c[3:]\n",
        "\n",
        "        vector = go.Scatter3d(\n",
        "            x = [start[0], end[0]],\n",
        "            y = [start[1], end[1]],\n",
        "            z = [start[2], end[2]],\n",
        "            mode='lines+markers',\n",
        "            line=dict(width=2, color=colors[i % len(colors)]),\n",
        "            marker=dict(size=2, color=colors[i % len(colors)])\n",
        "        )\n",
        "\n",
        "        data.append(vector)\n",
        "        pass\n",
        "    layout = go.Layout(margin=dict(l=4, r=4, b=4, t=4))\n",
        "    fig = go.Figure(data=data, layout=layout)\n",
        "    fig.show()"
      ]
    },
    {
      "cell_type": "code",
      "execution_count": 40,
      "metadata": {
        "colab": {
          "base_uri": "https://localhost:8080/",
          "height": 1000
        },
        "id": "8xzww7b__-Ni",
        "outputId": "07bf9be2-20dd-47b6-ccc3-5d3a60b3e885"
      },
      "outputs": [
        {
          "output_type": "stream",
          "name": "stdout",
          "text": [
            "Plot of inital vectors\n",
            "\n"
          ]
        },
        {
          "output_type": "display_data",
          "data": {
            "text/html": [
              "<html>\n",
              "<head><meta charset=\"utf-8\" /></head>\n",
              "<body>\n",
              "    <div>            <script src=\"https://cdnjs.cloudflare.com/ajax/libs/mathjax/2.7.5/MathJax.js?config=TeX-AMS-MML_SVG\"></script><script type=\"text/javascript\">if (window.MathJax && window.MathJax.Hub && window.MathJax.Hub.Config) {window.MathJax.Hub.Config({SVG: {font: \"STIX-Web\"}});}</script>                <script type=\"text/javascript\">window.PlotlyConfig = {MathJaxConfig: 'local'};</script>\n",
              "        <script charset=\"utf-8\" src=\"https://cdn.plot.ly/plotly-2.24.1.min.js\"></script>                <div id=\"fa44667c-fb0b-43ef-a934-4195679c82fa\" class=\"plotly-graph-div\" style=\"height:525px; width:100%;\"></div>            <script type=\"text/javascript\">                                    window.PLOTLYENV=window.PLOTLYENV || {};                                    if (document.getElementById(\"fa44667c-fb0b-43ef-a934-4195679c82fa\")) {                    Plotly.newPlot(                        \"fa44667c-fb0b-43ef-a934-4195679c82fa\",                        [{\"line\":{\"color\":\"blue\",\"width\":2},\"marker\":{\"color\":\"blue\",\"size\":2},\"mode\":\"lines+markers\",\"x\":[0.0,1.0],\"y\":[0.0,-1.0],\"z\":[0.0,1.0],\"type\":\"scatter3d\"},{\"line\":{\"color\":\"red\",\"width\":2},\"marker\":{\"color\":\"red\",\"size\":2},\"mode\":\"lines+markers\",\"x\":[0.0,1.0],\"y\":[0.0,0.0],\"z\":[0.0,1.0],\"type\":\"scatter3d\"},{\"line\":{\"color\":\"green\",\"width\":2},\"marker\":{\"color\":\"green\",\"size\":2},\"mode\":\"lines+markers\",\"x\":[0.0,1.0],\"y\":[0.0,1.0],\"z\":[0.0,2.0],\"type\":\"scatter3d\"}],                        {\"margin\":{\"b\":4,\"l\":4,\"r\":4,\"t\":4},\"template\":{\"data\":{\"histogram2dcontour\":[{\"type\":\"histogram2dcontour\",\"colorbar\":{\"outlinewidth\":0,\"ticks\":\"\"},\"colorscale\":[[0.0,\"#0d0887\"],[0.1111111111111111,\"#46039f\"],[0.2222222222222222,\"#7201a8\"],[0.3333333333333333,\"#9c179e\"],[0.4444444444444444,\"#bd3786\"],[0.5555555555555556,\"#d8576b\"],[0.6666666666666666,\"#ed7953\"],[0.7777777777777778,\"#fb9f3a\"],[0.8888888888888888,\"#fdca26\"],[1.0,\"#f0f921\"]]}],\"choropleth\":[{\"type\":\"choropleth\",\"colorbar\":{\"outlinewidth\":0,\"ticks\":\"\"}}],\"histogram2d\":[{\"type\":\"histogram2d\",\"colorbar\":{\"outlinewidth\":0,\"ticks\":\"\"},\"colorscale\":[[0.0,\"#0d0887\"],[0.1111111111111111,\"#46039f\"],[0.2222222222222222,\"#7201a8\"],[0.3333333333333333,\"#9c179e\"],[0.4444444444444444,\"#bd3786\"],[0.5555555555555556,\"#d8576b\"],[0.6666666666666666,\"#ed7953\"],[0.7777777777777778,\"#fb9f3a\"],[0.8888888888888888,\"#fdca26\"],[1.0,\"#f0f921\"]]}],\"heatmap\":[{\"type\":\"heatmap\",\"colorbar\":{\"outlinewidth\":0,\"ticks\":\"\"},\"colorscale\":[[0.0,\"#0d0887\"],[0.1111111111111111,\"#46039f\"],[0.2222222222222222,\"#7201a8\"],[0.3333333333333333,\"#9c179e\"],[0.4444444444444444,\"#bd3786\"],[0.5555555555555556,\"#d8576b\"],[0.6666666666666666,\"#ed7953\"],[0.7777777777777778,\"#fb9f3a\"],[0.8888888888888888,\"#fdca26\"],[1.0,\"#f0f921\"]]}],\"heatmapgl\":[{\"type\":\"heatmapgl\",\"colorbar\":{\"outlinewidth\":0,\"ticks\":\"\"},\"colorscale\":[[0.0,\"#0d0887\"],[0.1111111111111111,\"#46039f\"],[0.2222222222222222,\"#7201a8\"],[0.3333333333333333,\"#9c179e\"],[0.4444444444444444,\"#bd3786\"],[0.5555555555555556,\"#d8576b\"],[0.6666666666666666,\"#ed7953\"],[0.7777777777777778,\"#fb9f3a\"],[0.8888888888888888,\"#fdca26\"],[1.0,\"#f0f921\"]]}],\"contourcarpet\":[{\"type\":\"contourcarpet\",\"colorbar\":{\"outlinewidth\":0,\"ticks\":\"\"}}],\"contour\":[{\"type\":\"contour\",\"colorbar\":{\"outlinewidth\":0,\"ticks\":\"\"},\"colorscale\":[[0.0,\"#0d0887\"],[0.1111111111111111,\"#46039f\"],[0.2222222222222222,\"#7201a8\"],[0.3333333333333333,\"#9c179e\"],[0.4444444444444444,\"#bd3786\"],[0.5555555555555556,\"#d8576b\"],[0.6666666666666666,\"#ed7953\"],[0.7777777777777778,\"#fb9f3a\"],[0.8888888888888888,\"#fdca26\"],[1.0,\"#f0f921\"]]}],\"surface\":[{\"type\":\"surface\",\"colorbar\":{\"outlinewidth\":0,\"ticks\":\"\"},\"colorscale\":[[0.0,\"#0d0887\"],[0.1111111111111111,\"#46039f\"],[0.2222222222222222,\"#7201a8\"],[0.3333333333333333,\"#9c179e\"],[0.4444444444444444,\"#bd3786\"],[0.5555555555555556,\"#d8576b\"],[0.6666666666666666,\"#ed7953\"],[0.7777777777777778,\"#fb9f3a\"],[0.8888888888888888,\"#fdca26\"],[1.0,\"#f0f921\"]]}],\"mesh3d\":[{\"type\":\"mesh3d\",\"colorbar\":{\"outlinewidth\":0,\"ticks\":\"\"}}],\"scatter\":[{\"fillpattern\":{\"fillmode\":\"overlay\",\"size\":10,\"solidity\":0.2},\"type\":\"scatter\"}],\"parcoords\":[{\"type\":\"parcoords\",\"line\":{\"colorbar\":{\"outlinewidth\":0,\"ticks\":\"\"}}}],\"scatterpolargl\":[{\"type\":\"scatterpolargl\",\"marker\":{\"colorbar\":{\"outlinewidth\":0,\"ticks\":\"\"}}}],\"bar\":[{\"error_x\":{\"color\":\"#2a3f5f\"},\"error_y\":{\"color\":\"#2a3f5f\"},\"marker\":{\"line\":{\"color\":\"#E5ECF6\",\"width\":0.5},\"pattern\":{\"fillmode\":\"overlay\",\"size\":10,\"solidity\":0.2}},\"type\":\"bar\"}],\"scattergeo\":[{\"type\":\"scattergeo\",\"marker\":{\"colorbar\":{\"outlinewidth\":0,\"ticks\":\"\"}}}],\"scatterpolar\":[{\"type\":\"scatterpolar\",\"marker\":{\"colorbar\":{\"outlinewidth\":0,\"ticks\":\"\"}}}],\"histogram\":[{\"marker\":{\"pattern\":{\"fillmode\":\"overlay\",\"size\":10,\"solidity\":0.2}},\"type\":\"histogram\"}],\"scattergl\":[{\"type\":\"scattergl\",\"marker\":{\"colorbar\":{\"outlinewidth\":0,\"ticks\":\"\"}}}],\"scatter3d\":[{\"type\":\"scatter3d\",\"line\":{\"colorbar\":{\"outlinewidth\":0,\"ticks\":\"\"}},\"marker\":{\"colorbar\":{\"outlinewidth\":0,\"ticks\":\"\"}}}],\"scattermapbox\":[{\"type\":\"scattermapbox\",\"marker\":{\"colorbar\":{\"outlinewidth\":0,\"ticks\":\"\"}}}],\"scatterternary\":[{\"type\":\"scatterternary\",\"marker\":{\"colorbar\":{\"outlinewidth\":0,\"ticks\":\"\"}}}],\"scattercarpet\":[{\"type\":\"scattercarpet\",\"marker\":{\"colorbar\":{\"outlinewidth\":0,\"ticks\":\"\"}}}],\"carpet\":[{\"aaxis\":{\"endlinecolor\":\"#2a3f5f\",\"gridcolor\":\"white\",\"linecolor\":\"white\",\"minorgridcolor\":\"white\",\"startlinecolor\":\"#2a3f5f\"},\"baxis\":{\"endlinecolor\":\"#2a3f5f\",\"gridcolor\":\"white\",\"linecolor\":\"white\",\"minorgridcolor\":\"white\",\"startlinecolor\":\"#2a3f5f\"},\"type\":\"carpet\"}],\"table\":[{\"cells\":{\"fill\":{\"color\":\"#EBF0F8\"},\"line\":{\"color\":\"white\"}},\"header\":{\"fill\":{\"color\":\"#C8D4E3\"},\"line\":{\"color\":\"white\"}},\"type\":\"table\"}],\"barpolar\":[{\"marker\":{\"line\":{\"color\":\"#E5ECF6\",\"width\":0.5},\"pattern\":{\"fillmode\":\"overlay\",\"size\":10,\"solidity\":0.2}},\"type\":\"barpolar\"}],\"pie\":[{\"automargin\":true,\"type\":\"pie\"}]},\"layout\":{\"autotypenumbers\":\"strict\",\"colorway\":[\"#636efa\",\"#EF553B\",\"#00cc96\",\"#ab63fa\",\"#FFA15A\",\"#19d3f3\",\"#FF6692\",\"#B6E880\",\"#FF97FF\",\"#FECB52\"],\"font\":{\"color\":\"#2a3f5f\"},\"hovermode\":\"closest\",\"hoverlabel\":{\"align\":\"left\"},\"paper_bgcolor\":\"white\",\"plot_bgcolor\":\"#E5ECF6\",\"polar\":{\"bgcolor\":\"#E5ECF6\",\"angularaxis\":{\"gridcolor\":\"white\",\"linecolor\":\"white\",\"ticks\":\"\"},\"radialaxis\":{\"gridcolor\":\"white\",\"linecolor\":\"white\",\"ticks\":\"\"}},\"ternary\":{\"bgcolor\":\"#E5ECF6\",\"aaxis\":{\"gridcolor\":\"white\",\"linecolor\":\"white\",\"ticks\":\"\"},\"baxis\":{\"gridcolor\":\"white\",\"linecolor\":\"white\",\"ticks\":\"\"},\"caxis\":{\"gridcolor\":\"white\",\"linecolor\":\"white\",\"ticks\":\"\"}},\"coloraxis\":{\"colorbar\":{\"outlinewidth\":0,\"ticks\":\"\"}},\"colorscale\":{\"sequential\":[[0.0,\"#0d0887\"],[0.1111111111111111,\"#46039f\"],[0.2222222222222222,\"#7201a8\"],[0.3333333333333333,\"#9c179e\"],[0.4444444444444444,\"#bd3786\"],[0.5555555555555556,\"#d8576b\"],[0.6666666666666666,\"#ed7953\"],[0.7777777777777778,\"#fb9f3a\"],[0.8888888888888888,\"#fdca26\"],[1.0,\"#f0f921\"]],\"sequentialminus\":[[0.0,\"#0d0887\"],[0.1111111111111111,\"#46039f\"],[0.2222222222222222,\"#7201a8\"],[0.3333333333333333,\"#9c179e\"],[0.4444444444444444,\"#bd3786\"],[0.5555555555555556,\"#d8576b\"],[0.6666666666666666,\"#ed7953\"],[0.7777777777777778,\"#fb9f3a\"],[0.8888888888888888,\"#fdca26\"],[1.0,\"#f0f921\"]],\"diverging\":[[0,\"#8e0152\"],[0.1,\"#c51b7d\"],[0.2,\"#de77ae\"],[0.3,\"#f1b6da\"],[0.4,\"#fde0ef\"],[0.5,\"#f7f7f7\"],[0.6,\"#e6f5d0\"],[0.7,\"#b8e186\"],[0.8,\"#7fbc41\"],[0.9,\"#4d9221\"],[1,\"#276419\"]]},\"xaxis\":{\"gridcolor\":\"white\",\"linecolor\":\"white\",\"ticks\":\"\",\"title\":{\"standoff\":15},\"zerolinecolor\":\"white\",\"automargin\":true,\"zerolinewidth\":2},\"yaxis\":{\"gridcolor\":\"white\",\"linecolor\":\"white\",\"ticks\":\"\",\"title\":{\"standoff\":15},\"zerolinecolor\":\"white\",\"automargin\":true,\"zerolinewidth\":2},\"scene\":{\"xaxis\":{\"backgroundcolor\":\"#E5ECF6\",\"gridcolor\":\"white\",\"linecolor\":\"white\",\"showbackground\":true,\"ticks\":\"\",\"zerolinecolor\":\"white\",\"gridwidth\":2},\"yaxis\":{\"backgroundcolor\":\"#E5ECF6\",\"gridcolor\":\"white\",\"linecolor\":\"white\",\"showbackground\":true,\"ticks\":\"\",\"zerolinecolor\":\"white\",\"gridwidth\":2},\"zaxis\":{\"backgroundcolor\":\"#E5ECF6\",\"gridcolor\":\"white\",\"linecolor\":\"white\",\"showbackground\":true,\"ticks\":\"\",\"zerolinecolor\":\"white\",\"gridwidth\":2}},\"shapedefaults\":{\"line\":{\"color\":\"#2a3f5f\"}},\"annotationdefaults\":{\"arrowcolor\":\"#2a3f5f\",\"arrowhead\":0,\"arrowwidth\":1},\"geo\":{\"bgcolor\":\"white\",\"landcolor\":\"#E5ECF6\",\"subunitcolor\":\"white\",\"showland\":true,\"showlakes\":true,\"lakecolor\":\"white\"},\"title\":{\"x\":0.05},\"mapbox\":{\"style\":\"light\"}}}},                        {\"responsive\": true}                    ).then(function(){\n",
              "                            \n",
              "var gd = document.getElementById('fa44667c-fb0b-43ef-a934-4195679c82fa');\n",
              "var x = new MutationObserver(function (mutations, observer) {{\n",
              "        var display = window.getComputedStyle(gd).display;\n",
              "        if (!display || display === 'none') {{\n",
              "            console.log([gd, 'removed!']);\n",
              "            Plotly.purge(gd);\n",
              "            observer.disconnect();\n",
              "        }}\n",
              "}});\n",
              "\n",
              "// Listen for the removal of the full notebook cells\n",
              "var notebookContainer = gd.closest('#notebook-container');\n",
              "if (notebookContainer) {{\n",
              "    x.observe(notebookContainer, {childList: true});\n",
              "}}\n",
              "\n",
              "// Listen for the clearing of the current output cell\n",
              "var outputEl = gd.closest('.output');\n",
              "if (outputEl) {{\n",
              "    x.observe(outputEl, {childList: true});\n",
              "}}\n",
              "\n",
              "                        })                };                            </script>        </div>\n",
              "</body>\n",
              "</html>"
            ]
          },
          "metadata": {}
        },
        {
          "output_type": "stream",
          "name": "stdout",
          "text": [
            "Matrix of orthonormal vectors : \n",
            " [[ 0.57735027 -0.70710678  0.40824829]\n",
            " [ 0.57735027  0.         -0.81649658]\n",
            " [ 0.57735027  0.70710678  0.40824829]]\n"
          ]
        },
        {
          "output_type": "display_data",
          "data": {
            "text/html": [
              "<html>\n",
              "<head><meta charset=\"utf-8\" /></head>\n",
              "<body>\n",
              "    <div>            <script src=\"https://cdnjs.cloudflare.com/ajax/libs/mathjax/2.7.5/MathJax.js?config=TeX-AMS-MML_SVG\"></script><script type=\"text/javascript\">if (window.MathJax && window.MathJax.Hub && window.MathJax.Hub.Config) {window.MathJax.Hub.Config({SVG: {font: \"STIX-Web\"}});}</script>                <script type=\"text/javascript\">window.PlotlyConfig = {MathJaxConfig: 'local'};</script>\n",
              "        <script charset=\"utf-8\" src=\"https://cdn.plot.ly/plotly-2.24.1.min.js\"></script>                <div id=\"847850ae-f606-4b2f-8e7f-ad278423fd06\" class=\"plotly-graph-div\" style=\"height:525px; width:100%;\"></div>            <script type=\"text/javascript\">                                    window.PLOTLYENV=window.PLOTLYENV || {};                                    if (document.getElementById(\"847850ae-f606-4b2f-8e7f-ad278423fd06\")) {                    Plotly.newPlot(                        \"847850ae-f606-4b2f-8e7f-ad278423fd06\",                        [{\"line\":{\"color\":\"blue\",\"width\":2},\"marker\":{\"color\":\"blue\",\"size\":2},\"mode\":\"lines+markers\",\"x\":[0.0,0.5773502691896258],\"y\":[0.0,-0.7071067811865475],\"z\":[0.0,0.40824829046386185],\"type\":\"scatter3d\"},{\"line\":{\"color\":\"red\",\"width\":2},\"marker\":{\"color\":\"red\",\"size\":2},\"mode\":\"lines+markers\",\"x\":[0.0,0.5773502691896258],\"y\":[0.0,0.0],\"z\":[0.0,-0.8164965809277269],\"type\":\"scatter3d\"},{\"line\":{\"color\":\"green\",\"width\":2},\"marker\":{\"color\":\"green\",\"size\":2},\"mode\":\"lines+markers\",\"x\":[0.0,0.5773502691896258],\"y\":[0.0,0.7071067811865475],\"z\":[0.0,0.4082482904638624],\"type\":\"scatter3d\"}],                        {\"margin\":{\"b\":4,\"l\":4,\"r\":4,\"t\":4},\"template\":{\"data\":{\"histogram2dcontour\":[{\"type\":\"histogram2dcontour\",\"colorbar\":{\"outlinewidth\":0,\"ticks\":\"\"},\"colorscale\":[[0.0,\"#0d0887\"],[0.1111111111111111,\"#46039f\"],[0.2222222222222222,\"#7201a8\"],[0.3333333333333333,\"#9c179e\"],[0.4444444444444444,\"#bd3786\"],[0.5555555555555556,\"#d8576b\"],[0.6666666666666666,\"#ed7953\"],[0.7777777777777778,\"#fb9f3a\"],[0.8888888888888888,\"#fdca26\"],[1.0,\"#f0f921\"]]}],\"choropleth\":[{\"type\":\"choropleth\",\"colorbar\":{\"outlinewidth\":0,\"ticks\":\"\"}}],\"histogram2d\":[{\"type\":\"histogram2d\",\"colorbar\":{\"outlinewidth\":0,\"ticks\":\"\"},\"colorscale\":[[0.0,\"#0d0887\"],[0.1111111111111111,\"#46039f\"],[0.2222222222222222,\"#7201a8\"],[0.3333333333333333,\"#9c179e\"],[0.4444444444444444,\"#bd3786\"],[0.5555555555555556,\"#d8576b\"],[0.6666666666666666,\"#ed7953\"],[0.7777777777777778,\"#fb9f3a\"],[0.8888888888888888,\"#fdca26\"],[1.0,\"#f0f921\"]]}],\"heatmap\":[{\"type\":\"heatmap\",\"colorbar\":{\"outlinewidth\":0,\"ticks\":\"\"},\"colorscale\":[[0.0,\"#0d0887\"],[0.1111111111111111,\"#46039f\"],[0.2222222222222222,\"#7201a8\"],[0.3333333333333333,\"#9c179e\"],[0.4444444444444444,\"#bd3786\"],[0.5555555555555556,\"#d8576b\"],[0.6666666666666666,\"#ed7953\"],[0.7777777777777778,\"#fb9f3a\"],[0.8888888888888888,\"#fdca26\"],[1.0,\"#f0f921\"]]}],\"heatmapgl\":[{\"type\":\"heatmapgl\",\"colorbar\":{\"outlinewidth\":0,\"ticks\":\"\"},\"colorscale\":[[0.0,\"#0d0887\"],[0.1111111111111111,\"#46039f\"],[0.2222222222222222,\"#7201a8\"],[0.3333333333333333,\"#9c179e\"],[0.4444444444444444,\"#bd3786\"],[0.5555555555555556,\"#d8576b\"],[0.6666666666666666,\"#ed7953\"],[0.7777777777777778,\"#fb9f3a\"],[0.8888888888888888,\"#fdca26\"],[1.0,\"#f0f921\"]]}],\"contourcarpet\":[{\"type\":\"contourcarpet\",\"colorbar\":{\"outlinewidth\":0,\"ticks\":\"\"}}],\"contour\":[{\"type\":\"contour\",\"colorbar\":{\"outlinewidth\":0,\"ticks\":\"\"},\"colorscale\":[[0.0,\"#0d0887\"],[0.1111111111111111,\"#46039f\"],[0.2222222222222222,\"#7201a8\"],[0.3333333333333333,\"#9c179e\"],[0.4444444444444444,\"#bd3786\"],[0.5555555555555556,\"#d8576b\"],[0.6666666666666666,\"#ed7953\"],[0.7777777777777778,\"#fb9f3a\"],[0.8888888888888888,\"#fdca26\"],[1.0,\"#f0f921\"]]}],\"surface\":[{\"type\":\"surface\",\"colorbar\":{\"outlinewidth\":0,\"ticks\":\"\"},\"colorscale\":[[0.0,\"#0d0887\"],[0.1111111111111111,\"#46039f\"],[0.2222222222222222,\"#7201a8\"],[0.3333333333333333,\"#9c179e\"],[0.4444444444444444,\"#bd3786\"],[0.5555555555555556,\"#d8576b\"],[0.6666666666666666,\"#ed7953\"],[0.7777777777777778,\"#fb9f3a\"],[0.8888888888888888,\"#fdca26\"],[1.0,\"#f0f921\"]]}],\"mesh3d\":[{\"type\":\"mesh3d\",\"colorbar\":{\"outlinewidth\":0,\"ticks\":\"\"}}],\"scatter\":[{\"fillpattern\":{\"fillmode\":\"overlay\",\"size\":10,\"solidity\":0.2},\"type\":\"scatter\"}],\"parcoords\":[{\"type\":\"parcoords\",\"line\":{\"colorbar\":{\"outlinewidth\":0,\"ticks\":\"\"}}}],\"scatterpolargl\":[{\"type\":\"scatterpolargl\",\"marker\":{\"colorbar\":{\"outlinewidth\":0,\"ticks\":\"\"}}}],\"bar\":[{\"error_x\":{\"color\":\"#2a3f5f\"},\"error_y\":{\"color\":\"#2a3f5f\"},\"marker\":{\"line\":{\"color\":\"#E5ECF6\",\"width\":0.5},\"pattern\":{\"fillmode\":\"overlay\",\"size\":10,\"solidity\":0.2}},\"type\":\"bar\"}],\"scattergeo\":[{\"type\":\"scattergeo\",\"marker\":{\"colorbar\":{\"outlinewidth\":0,\"ticks\":\"\"}}}],\"scatterpolar\":[{\"type\":\"scatterpolar\",\"marker\":{\"colorbar\":{\"outlinewidth\":0,\"ticks\":\"\"}}}],\"histogram\":[{\"marker\":{\"pattern\":{\"fillmode\":\"overlay\",\"size\":10,\"solidity\":0.2}},\"type\":\"histogram\"}],\"scattergl\":[{\"type\":\"scattergl\",\"marker\":{\"colorbar\":{\"outlinewidth\":0,\"ticks\":\"\"}}}],\"scatter3d\":[{\"type\":\"scatter3d\",\"line\":{\"colorbar\":{\"outlinewidth\":0,\"ticks\":\"\"}},\"marker\":{\"colorbar\":{\"outlinewidth\":0,\"ticks\":\"\"}}}],\"scattermapbox\":[{\"type\":\"scattermapbox\",\"marker\":{\"colorbar\":{\"outlinewidth\":0,\"ticks\":\"\"}}}],\"scatterternary\":[{\"type\":\"scatterternary\",\"marker\":{\"colorbar\":{\"outlinewidth\":0,\"ticks\":\"\"}}}],\"scattercarpet\":[{\"type\":\"scattercarpet\",\"marker\":{\"colorbar\":{\"outlinewidth\":0,\"ticks\":\"\"}}}],\"carpet\":[{\"aaxis\":{\"endlinecolor\":\"#2a3f5f\",\"gridcolor\":\"white\",\"linecolor\":\"white\",\"minorgridcolor\":\"white\",\"startlinecolor\":\"#2a3f5f\"},\"baxis\":{\"endlinecolor\":\"#2a3f5f\",\"gridcolor\":\"white\",\"linecolor\":\"white\",\"minorgridcolor\":\"white\",\"startlinecolor\":\"#2a3f5f\"},\"type\":\"carpet\"}],\"table\":[{\"cells\":{\"fill\":{\"color\":\"#EBF0F8\"},\"line\":{\"color\":\"white\"}},\"header\":{\"fill\":{\"color\":\"#C8D4E3\"},\"line\":{\"color\":\"white\"}},\"type\":\"table\"}],\"barpolar\":[{\"marker\":{\"line\":{\"color\":\"#E5ECF6\",\"width\":0.5},\"pattern\":{\"fillmode\":\"overlay\",\"size\":10,\"solidity\":0.2}},\"type\":\"barpolar\"}],\"pie\":[{\"automargin\":true,\"type\":\"pie\"}]},\"layout\":{\"autotypenumbers\":\"strict\",\"colorway\":[\"#636efa\",\"#EF553B\",\"#00cc96\",\"#ab63fa\",\"#FFA15A\",\"#19d3f3\",\"#FF6692\",\"#B6E880\",\"#FF97FF\",\"#FECB52\"],\"font\":{\"color\":\"#2a3f5f\"},\"hovermode\":\"closest\",\"hoverlabel\":{\"align\":\"left\"},\"paper_bgcolor\":\"white\",\"plot_bgcolor\":\"#E5ECF6\",\"polar\":{\"bgcolor\":\"#E5ECF6\",\"angularaxis\":{\"gridcolor\":\"white\",\"linecolor\":\"white\",\"ticks\":\"\"},\"radialaxis\":{\"gridcolor\":\"white\",\"linecolor\":\"white\",\"ticks\":\"\"}},\"ternary\":{\"bgcolor\":\"#E5ECF6\",\"aaxis\":{\"gridcolor\":\"white\",\"linecolor\":\"white\",\"ticks\":\"\"},\"baxis\":{\"gridcolor\":\"white\",\"linecolor\":\"white\",\"ticks\":\"\"},\"caxis\":{\"gridcolor\":\"white\",\"linecolor\":\"white\",\"ticks\":\"\"}},\"coloraxis\":{\"colorbar\":{\"outlinewidth\":0,\"ticks\":\"\"}},\"colorscale\":{\"sequential\":[[0.0,\"#0d0887\"],[0.1111111111111111,\"#46039f\"],[0.2222222222222222,\"#7201a8\"],[0.3333333333333333,\"#9c179e\"],[0.4444444444444444,\"#bd3786\"],[0.5555555555555556,\"#d8576b\"],[0.6666666666666666,\"#ed7953\"],[0.7777777777777778,\"#fb9f3a\"],[0.8888888888888888,\"#fdca26\"],[1.0,\"#f0f921\"]],\"sequentialminus\":[[0.0,\"#0d0887\"],[0.1111111111111111,\"#46039f\"],[0.2222222222222222,\"#7201a8\"],[0.3333333333333333,\"#9c179e\"],[0.4444444444444444,\"#bd3786\"],[0.5555555555555556,\"#d8576b\"],[0.6666666666666666,\"#ed7953\"],[0.7777777777777778,\"#fb9f3a\"],[0.8888888888888888,\"#fdca26\"],[1.0,\"#f0f921\"]],\"diverging\":[[0,\"#8e0152\"],[0.1,\"#c51b7d\"],[0.2,\"#de77ae\"],[0.3,\"#f1b6da\"],[0.4,\"#fde0ef\"],[0.5,\"#f7f7f7\"],[0.6,\"#e6f5d0\"],[0.7,\"#b8e186\"],[0.8,\"#7fbc41\"],[0.9,\"#4d9221\"],[1,\"#276419\"]]},\"xaxis\":{\"gridcolor\":\"white\",\"linecolor\":\"white\",\"ticks\":\"\",\"title\":{\"standoff\":15},\"zerolinecolor\":\"white\",\"automargin\":true,\"zerolinewidth\":2},\"yaxis\":{\"gridcolor\":\"white\",\"linecolor\":\"white\",\"ticks\":\"\",\"title\":{\"standoff\":15},\"zerolinecolor\":\"white\",\"automargin\":true,\"zerolinewidth\":2},\"scene\":{\"xaxis\":{\"backgroundcolor\":\"#E5ECF6\",\"gridcolor\":\"white\",\"linecolor\":\"white\",\"showbackground\":true,\"ticks\":\"\",\"zerolinecolor\":\"white\",\"gridwidth\":2},\"yaxis\":{\"backgroundcolor\":\"#E5ECF6\",\"gridcolor\":\"white\",\"linecolor\":\"white\",\"showbackground\":true,\"ticks\":\"\",\"zerolinecolor\":\"white\",\"gridwidth\":2},\"zaxis\":{\"backgroundcolor\":\"#E5ECF6\",\"gridcolor\":\"white\",\"linecolor\":\"white\",\"showbackground\":true,\"ticks\":\"\",\"zerolinecolor\":\"white\",\"gridwidth\":2}},\"shapedefaults\":{\"line\":{\"color\":\"#2a3f5f\"}},\"annotationdefaults\":{\"arrowcolor\":\"#2a3f5f\",\"arrowhead\":0,\"arrowwidth\":1},\"geo\":{\"bgcolor\":\"white\",\"landcolor\":\"#E5ECF6\",\"subunitcolor\":\"white\",\"showland\":true,\"showlakes\":true,\"lakecolor\":\"white\"},\"title\":{\"x\":0.05},\"mapbox\":{\"style\":\"light\"}}}},                        {\"responsive\": true}                    ).then(function(){\n",
              "                            \n",
              "var gd = document.getElementById('847850ae-f606-4b2f-8e7f-ad278423fd06');\n",
              "var x = new MutationObserver(function (mutations, observer) {{\n",
              "        var display = window.getComputedStyle(gd).display;\n",
              "        if (!display || display === 'none') {{\n",
              "            console.log([gd, 'removed!']);\n",
              "            Plotly.purge(gd);\n",
              "            observer.disconnect();\n",
              "        }}\n",
              "}});\n",
              "\n",
              "// Listen for the removal of the full notebook cells\n",
              "var notebookContainer = gd.closest('#notebook-container');\n",
              "if (notebookContainer) {{\n",
              "    x.observe(notebookContainer, {childList: true});\n",
              "}}\n",
              "\n",
              "// Listen for the clearing of the current output cell\n",
              "var outputEl = gd.closest('.output');\n",
              "if (outputEl) {{\n",
              "    x.observe(outputEl, {childList: true});\n",
              "}}\n",
              "\n",
              "                        })                };                            </script>        </div>\n",
              "</body>\n",
              "</html>"
            ]
          },
          "metadata": {}
        }
      ],
      "source": [
        "A = [[1, -1, 1], [1, 0, 1], [1, 1, 2]]\n",
        "\n",
        "print(\"Plot of inital vectors\\n\")\n",
        "vector_plot(A)\n",
        "\n",
        "B = gram_schmidt(np.array(A))\n",
        "print(\"Matrix of orthonormal vectors : \\n\", B)\n",
        "vector_plot(B)"
      ]
    },
    {
      "cell_type": "markdown",
      "metadata": {
        "id": "uZnLOFfA_-Ni"
      },
      "source": [
        "# Q3: Change of Basis (40 Points)"
      ]
    },
    {
      "cell_type": "markdown",
      "metadata": {
        "id": "ODuzUvug_-Ni"
      },
      "source": [
        "Consider vector $v_a$ in basis $a_1, a_2, \\cdots, a_n \\in \\mathbb{R}^n$, We want to find its representation $v_b$ in basis $b_1, b_2, \\cdots, b_n \\in \\mathbb{R}^n$. $A$ is a $n\\times n$ matrix with columns $a_1, a_2, \\cdots, a_n$, $B$ is a matrix with columns $b_1, b_2, \\cdots, b_n$ and we have the following relation between them: $$Av_a = Bv_b$$\n",
        "By knowing the above equation, Implement a function which takes representation of a $v_a$ in basis $A$ and returns its representation in basis $B$."
      ]
    },
    {
      "cell_type": "code",
      "execution_count": 43,
      "metadata": {
        "id": "ZDnbLGVW_-Ni"
      },
      "outputs": [],
      "source": [
        "def basis_change(va: np.ndarray, A: np.ndarray, B: np.ndarray) -> np.ndarray:\n",
        "    \"\"\"\n",
        "    va: vector in basis a_1, ..., a_n.\n",
        "    A: basis matrix of vector va.\n",
        "    B: new basis matrix.\n",
        "    output: representaiton of vector va in new basis b_1, ..., b_n.\n",
        "    \"\"\"\n",
        "\n",
        "    B_inverse = solve(B, np.eye(len(B)))\n",
        "    T = np.dot(B_inverse, A)\n",
        "    new_basis = np.dot(T, va)\n",
        "    return new_basis"
      ]
    },
    {
      "cell_type": "markdown",
      "metadata": {
        "id": "smqmyjjf_-Ni"
      },
      "source": [
        "Use the below block to test your code."
      ]
    },
    {
      "cell_type": "code",
      "execution_count": 46,
      "metadata": {
        "colab": {
          "base_uri": "https://localhost:8080/"
        },
        "id": "khqvOf-V_-Ni",
        "outputId": "4145c770-6671-478a-a1d9-3563792f7838"
      },
      "outputs": [
        {
          "output_type": "stream",
          "name": "stdout",
          "text": [
            "test 1: \n",
            "\u001b[32mPassed!\u001b[0m\n",
            "---------------\n",
            "test 2: \n",
            "\u001b[32mPassed!\u001b[0m\n",
            "---------------\n",
            "test 3: \n",
            "\u001b[32mPassed!\u001b[0m\n",
            "---------------\n"
          ]
        }
      ],
      "source": [
        "for s in range(1, 4):\n",
        "    i = 3**s\n",
        "    nA, mA = 3**s, 3**s\n",
        "    nB, mB = 3**s, 3**s\n",
        "    va = tester.vector_generator(i, 100)\n",
        "    A = tester.matrix_generator(nA, mA, 10)\n",
        "    B = tester.matrix_generator(nB, mB, 10)\n",
        "\n",
        "    vb = basis_change(va, A, B)\n",
        "\n",
        "    print(\"test \" + str(s) + \": \")\n",
        "    tester.change_of_basis_test(va, vb, A, B)"
      ]
    },
    {
      "cell_type": "markdown",
      "metadata": {
        "id": "P5ilx0oE_-Ni"
      },
      "source": [
        "Now we want to visualize our vectors. Implement a funciton which its input is a set of vectors and it draws the vectors in gridline using matplotlib. Vectors must be shown as arrows and your grid should be like the grids shown below. [This matplotlib function](https://matplotlib.org/stable/api/_as_gen/matplotlib.axes.Axes.quiver.html) may be useful in your implementation.\n"
      ]
    },
    {
      "cell_type": "code",
      "execution_count": 47,
      "metadata": {
        "id": "hdbJNFs4_-Ni"
      },
      "outputs": [],
      "source": [
        "def plot_vectors(vectors):\n",
        "    \"\"\"\n",
        "    vectors: list of vectors to plot.\n",
        "    scale: the maximum value to show for x and y and the negative of this value would be the minimum\n",
        "    output: a gridline in which vetors are drawn as arrows.\n",
        "    \"\"\"\n",
        "\n",
        "    fig, ax = plt.subplots()\n",
        "\n",
        "    X, Y = zip(*vectors)\n",
        "    '''\n",
        "    max_x = max(abs(max(X)), abs(min(X)))\n",
        "    max_y = max(abs(max(Y)), abs(min(Y)))\n",
        "    scale = max(max_x, max_y)\n",
        "    '''\n",
        "    scale = 2\n",
        "\n",
        "    origin_x = np.zeros(len(vectors))\n",
        "    origin_y = np.zeros(len(vectors))\n",
        "\n",
        "    ax.quiver(origin_x, origin_y, X, Y, angles='xy', scale_units='xy', scale=1, color='b')\n",
        "    ax.set_xlim([-scale, scale])\n",
        "    ax.set_ylim([-scale, scale])\n",
        "\n",
        "    ax.axhline(0, color='black', linewidth=1)\n",
        "    ax.axvline(0, color='black', linewidth=1)\n",
        "    ax.grid(which='both', color='gray', linewidth=0.5)\n",
        "\n",
        "    ax.set_aspect('equal', adjustable='box')\n",
        "\n",
        "    plt.show()"
      ]
    },
    {
      "cell_type": "markdown",
      "metadata": {
        "id": "a8QRsDHB_-Ni"
      },
      "source": [
        "Lets visualise two vector sets. these vectors are in standard basis."
      ]
    },
    {
      "cell_type": "code",
      "execution_count": 48,
      "metadata": {
        "colab": {
          "base_uri": "https://localhost:8080/",
          "height": 853
        },
        "id": "zyWtCCrv_-Ni",
        "outputId": "c37ff41a-809a-4b6d-a592-56813f1690c8"
      },
      "outputs": [
        {
          "output_type": "display_data",
          "data": {
            "text/plain": [
              "<Figure size 640x480 with 1 Axes>"
            ],
            "image/png": "[encoded data removed]"
          },
          "metadata": {}
        },
        {
          "output_type": "display_data",
          "data": {
            "text/plain": [
              "<Figure size 640x480 with 1 Axes>"
            ],
            "image/png": "[encoded data removed]"
          },
          "metadata": {}
        }
      ],
      "source": [
        "v1 = np.array([2,0])\n",
        "v2 = np.array([0,1])\n",
        "v3 = np.array([2,1])\n",
        "vectors1 = [v1, v2, v3]\n",
        "\n",
        "alpha = np.linspace(0, 2*np.pi, 41)\n",
        "vectors2= list(zip(np.cos(alpha), np.sin(alpha)))\n",
        "\n",
        "plot_vectors(vectors1)\n",
        "plot_vectors(vectors2)"
      ]
    },
    {
      "cell_type": "markdown",
      "metadata": {
        "id": "E86zyHV5_-Ni"
      },
      "source": [
        "Change the basis of vector set 1 and 2 to basis $B_1$ and $B_2$ then visualize their representation in new basis."
      ]
    },
    {
      "cell_type": "code",
      "execution_count": 49,
      "metadata": {
        "id": "iF-LkAfp_-Ni"
      },
      "outputs": [],
      "source": [
        "B1 = np.array([[1, 1], [1, -1]])\n",
        "B2 = np.array([[2, 1], [1, 2]]) / 2"
      ]
    },
    {
      "cell_type": "code",
      "execution_count": 50,
      "metadata": {
        "colab": {
          "base_uri": "https://localhost:8080/",
          "height": 853
        },
        "id": "VcjhdeEt_-Ni",
        "outputId": "11250d9a-3d31-4027-bc4a-ea56b381afd7"
      },
      "outputs": [
        {
          "output_type": "display_data",
          "data": {
            "text/plain": [
              "<Figure size 640x480 with 1 Axes>"
            ],
            "image/png": "[encoded data removed]"
          },
          "metadata": {}
        },
        {
          "output_type": "display_data",
          "data": {
            "text/plain": [
              "<Figure size 640x480 with 1 Axes>"
            ],
            "image/png": "[encoded data removed]"
          },
          "metadata": {}
        }
      ],
      "source": [
        "# TODO: write your code here\n",
        "\n",
        "new_vectors1 = []\n",
        "for i in range(len(vectors1)):\n",
        "  A = np.eye(len(vectors1[i]))\n",
        "  new_vectors1.append(basis_change(vectors1[i], A, B1))\n",
        "\n",
        "plot_vectors(np.array(new_vectors1))\n",
        "\n",
        "new_vectors2 = []\n",
        "for i in range(len(vectors2)):\n",
        "  A = np.eye(len(vectors2[i]))\n",
        "  new_vectors2.append(basis_change(vectors2[i], A, B2))\n",
        "\n",
        "plot_vectors(np.array(new_vectors2))"
      ]
    }
  ],
  "metadata": {
    "kernelspec": {
      "display_name": "Python 3",
      "language": "python",
      "name": "python3"
    },
    "language_info": {
      "codemirror_mode": {
        "name": "ipython",
        "version": 3
      },
      "file_extension": ".py",
      "mimetype": "text/x-python",
      "name": "python",
      "nbconvert_exporter": "python",
      "pygments_lexer": "ipython3",
      "version": "3.11.2"
    },
    "colab": {
      "provenance": []
    }
  },
  "nbformat": 4,
  "nbformat_minor": 0
}