{
  "cells": [
    {
      "cell_type": "markdown",
      "metadata": {
        "id": "9hhIsepSG3o2"
      },
      "source": [
        "<br>\n",
        "<font>\n",
        "<!-- <img src=\"https://cdn.freebiesupply.com/logos/large/2x/sharif-logo-png-transparent.png\" alt=\"SUT logo\" width=300 height=300 align=left class=\"saturate\"> -->\n",
        "<div dir=ltr align=center>\n",
        "<img src=\"https://cdn.freebiesupply.com/logos/large/2x/sharif-logo-png-transparent.png\" width=200 height=200>\n",
        "<br>\n",
        "<font color=0F5298 size=7>\n",
        "Linear Algebra <br>\n",
        "<font color=2565AE size=5>\n",
        "Computer Engineering Department <br>\n",
        "Spring 2024<br>\n",
        "<font color=3C99D size=5>\n",
        "Practical Assignment 3 <br>\n",
        "<font color=3C99D size=5>\n",
        "Diagonalization, Eigenvectors and Decomposition <br>\n",
        "<font color=696880 size=4>\n",
        "<!-- <br> -->\n",
        "Mahdi Alinejad - Mahan Bayhaghi\n",
        "\n",
        "____"
      ]
    },
    {
      "cell_type": "markdown",
      "metadata": {
        "id": "L_yNz5LcG3o4"
      },
      "source": [
        "\n",
        "<h3 style='color: green;'>Purpose</h3>\n",
        "In this notebook, we will explore eigenvalues and eigenvectors, and demonstrate diagonalization of a matrix. We will also compare the performance of computing matrix powers using regular methods versus diagonalization."
      ]
    },
    {
      "cell_type": "markdown",
      "metadata": {
        "id": "rrA_CrJLG3o5"
      },
      "source": [
        "<h3 style='color: green;'>Student Information</h3>"
      ]
    },
    {
      "cell_type": "code",
      "execution_count": null,
      "metadata": {
        "ExecuteTime": {
          "end_time": "2024-06-20T22:54:03.523856Z",
          "start_time": "2024-06-20T22:54:03.520893Z"
        },
        "id": "SOgJ3WAyG3o6"
      },
      "outputs": [],
      "source": [
        "student_number = '401105775'\n",
        "first_name = 'Rozhin'\n",
        "last_name = 'Taghizadegan'"
      ]
    },
    {
      "cell_type": "markdown",
      "metadata": {
        "id": "badnPO4GG3o6"
      },
      "source": [
        "<h3 style='color: green;'>Imports</h3>\n",
        "import the necessary libraries."
      ]
    },
    {
      "cell_type": "code",
      "execution_count": 74,
      "metadata": {
        "ExecuteTime": {
          "end_time": "2024-06-20T22:54:03.574734Z",
          "start_time": "2024-06-20T22:54:03.571360Z"
        },
        "id": "YwsqXl1ZG3o7"
      },
      "outputs": [],
      "source": [
        "import numpy as np\n",
        "from IPython.display import display, HTML\n",
        "import matplotlib.pyplot as plt\n",
        "import timeit\n",
        "import math"
      ]
    },
    {
      "cell_type": "markdown",
      "metadata": {
        "id": "1-lWTHrjG3o7"
      },
      "source": [
        "<h3 style='color: green;'>Eigenvalues and Eigenvectors</h3>\n",
        "Eigenvalues and eigenvectors are fundamental concepts in linear algebra. For a given square matrix A, if there is a non-zero vector v such that Av = λv, then λ is called the eigenvalue and v is the corresponding eigenvector."
      ]
    },
    {
      "cell_type": "markdown",
      "metadata": {
        "id": "8Pv6LVjyG3o7"
      },
      "source": [
        "<h3 style='color: green;'>Functions for Eigenvalues and Eigenvectors</h3>\n",
        "We will define functions to compute eigenvalues and eigenvectors."
      ]
    },
    {
      "cell_type": "code",
      "execution_count": 75,
      "metadata": {
        "ExecuteTime": {
          "end_time": "2024-06-20T22:54:03.590103Z",
          "start_time": "2024-06-20T22:54:03.586103Z"
        },
        "id": "OPa2h3rmG3o8"
      },
      "outputs": [],
      "source": [
        "def solve_quadratic(a, b, c):\n",
        "    delta = b**2 - 4*a*c\n",
        "    root1 = (-b + math.sqrt(delta)) / (2 * a)\n",
        "    root2 = (-b - math.sqrt(delta)) / (2 * a)\n",
        "    return root1, root2\n",
        "\n",
        "def compute_eigenvalues(A):\n",
        "    trace_A = A[0][0] + A[1][1]\n",
        "    det_A = (A[0][0] * A[1][1]) - (A[0][1] * A[1][0])\n",
        "    roots_tuple = solve_quadratic(1, -trace_A, det_A)\n",
        "    return list(roots_tuple)\n",
        "\n",
        "def compute_eigenvector(A, eigenvalue):\n",
        "    identity_matrix = np.eye(A.shape[0])\n",
        "    modified_matrix = A - eigenvalue * identity_matrix\n",
        "\n",
        "    a, b = modified_matrix[0, 0], modified_matrix[0, 1]\n",
        "    c, d = modified_matrix[1, 0], modified_matrix[1, 1]\n",
        "\n",
        "    if a != 0 or b != 0:\n",
        "        x = 1\n",
        "        y = -a / b if b != 0 else -c / a\n",
        "    else:\n",
        "        y = 1\n",
        "        x = -d / c if c != 0 else -b / d\n",
        "\n",
        "    eigenvector = np.array([x, y])\n",
        "    eigenvector = eigenvector / np.dot(eigenvector, eigenvector)\n",
        "\n",
        "    return eigenvector\n",
        "\n",
        "def compute_eigenvectors(A):\n",
        "    eigenvectors = []\n",
        "    eigenvalues = compute_eigenvalues(A)\n",
        "\n",
        "    for eigenvalue in eigenvalues:\n",
        "        eigenvector = compute_eigenvector(A, eigenvalue)\n",
        "        eigenvectors.append(eigenvector)\n",
        "\n",
        "    return np.array(eigenvectors)"
      ]
    },
    {
      "cell_type": "markdown",
      "metadata": {
        "id": "ZuE5YmroG3o9"
      },
      "source": [
        "<h3 style='color: green;'>Visualization of Vectors</h3>\n",
        "We will write a function to visualize vectors in 2D."
      ]
    },
    {
      "cell_type": "code",
      "execution_count": 76,
      "metadata": {
        "ExecuteTime": {
          "end_time": "2024-06-20T22:54:03.615375Z",
          "start_time": "2024-06-20T22:54:03.611231Z"
        },
        "id": "Z-LvcCT0G3o-"
      },
      "outputs": [],
      "source": [
        "def plot_vectors(vectors, colors, labels, title):\n",
        "    plt.figure()\n",
        "    plt.axhline(0, color='gray', lw=0.5)\n",
        "    plt.axvline(0, color='gray', lw=0.5)\n",
        "    plt.grid()\n",
        "    for vector, color, label in zip(vectors, colors, labels):\n",
        "        plt.quiver(0, 0, vector[0], vector[1], angles='xy', scale_units='xy', scale=1, color=color, label=label)\n",
        "    plt.xlim(-1.5, 1.5)\n",
        "    plt.ylim(-1.5, 1.5)\n",
        "    plt.legend()\n",
        "    plt.title(title)\n",
        "    plt.show()\n"
      ]
    },
    {
      "cell_type": "markdown",
      "metadata": {
        "id": "LyDyLZdzG3o-"
      },
      "source": [
        "<h3 style='color: green;'>Example with a Random Matrix</h3>\n",
        "We will generate a random 2D matrix with two independent eigenvectors and visualize them along with a random vector. Then we apply the transformation and plot them again."
      ]
    },
    {
      "cell_type": "markdown",
      "metadata": {
        "id": "fqPc0ACbG3o-"
      },
      "source": [
        "### no need to change the below cells"
      ]
    },
    {
      "cell_type": "code",
      "execution_count": 80,
      "metadata": {
        "ExecuteTime": {
          "end_time": "2024-06-20T22:54:03.630890Z",
          "start_time": "2024-06-20T22:54:03.627383Z"
        },
        "id": "Rde7P4QEG3o-"
      },
      "outputs": [],
      "source": [
        "def generate_valid_matrix():\n",
        "    while True:\n",
        "        A = np.random.rand(2, 2)\n",
        "        eigenvalues = np.linalg.eigvals(A)\n",
        "        if (np.all(np.isreal(eigenvalues)) and\n",
        "            len(set(eigenvalues)) == 2 and\n",
        "            np.all(np.abs(eigenvalues) > 0.33) and\n",
        "            np.all(np.abs(eigenvalues) < 3)):\n",
        "            return A"
      ]
    },
    {
      "cell_type": "code",
      "execution_count": 81,
      "metadata": {
        "ExecuteTime": {
          "end_time": "2024-06-20T22:54:31.221389Z",
          "start_time": "2024-06-20T22:54:31.010845Z"
        },
        "colab": {
          "base_uri": "https://localhost:8080/",
          "height": 887
        },
        "id": "2P47KdsWG3o_",
        "outputId": "118d4d26-4ec8-49e6-e292-5fb43f8d1a87"
      },
      "outputs": [
        {
          "data": {
            "image/png": "[encoded data removed]",
            "text/plain": [
              "<Figure size 640x480 with 1 Axes>"
            ]
          },
          "metadata": {},
          "output_type": "display_data"
        },
        {
          "data": {
            "image/png": "[encoded data removed]",
            "text/plain": [
              "<Figure size 640x480 with 1 Axes>"
            ]
          },
          "metadata": {},
          "output_type": "display_data"
        }
      ],
      "source": [
        "A = generate_valid_matrix()\n",
        "eigenvectors = compute_eigenvectors(A)\n",
        "\n",
        "random_vector = np.random.rand(2)\n",
        "\n",
        "plot_vectors([eigenvectors[:, 0], eigenvectors[:, 1], random_vector],\n",
        "             ['r', 'g', 'b'],\n",
        "             ['Eigenvector 1', 'Eigenvector 2', 'Random Vector'],\n",
        "             'Original Vectors')\n",
        "\n",
        "transformed_vectors = [A @ eigenvectors[:, 0], A @ eigenvectors[:, 1], A @ random_vector]\n",
        "\n",
        "plot_vectors(transformed_vectors,\n",
        "             ['r', 'g', 'b'],\n",
        "             ['Transformed Eigenvector 1', 'Transformed Eigenvector 2', 'Transformed Random Vector'],\n",
        "             'Transformed Vectors')"
      ]
    },
    {
      "cell_type": "markdown",
      "metadata": {
        "id": "dABxMS9wG3o_"
      },
      "source": [
        "<h3 style='color: red;'>Question</h3>\n",
        "explain this behavior of these vectors in 2D plain"
      ]
    },
    {
      "cell_type": "markdown",
      "metadata": {
        "id": "VqZQGCiSG3pA"
      },
      "source": [
        "<h3 style='color: yellow;'>Your answer</h3>\n",
        "Since the red vector and the green vector are the eigenvectors of the given matrix, applying the transformation to them will not change their direction; it will only change the magnitude of these vectors (if the correspondent eigenvalue is not 1). </br>\n",
        "But because the blue vector is random, the transformation might change its direction and magnitude (if the random vector is not the eigenvector, its direction and magnitude will change)."
      ]
    },
    {
      "cell_type": "markdown",
      "metadata": {
        "id": "CrU96CfqG3pA"
      },
      "source": [
        "<h3 style='color: green;'>Diagonalization</h3>\n",
        "Diagonalization of a matrix involves finding a matrix P and a diagonal matrix D such that A = PDP^(-1). This is possible if A has n linearly independent eigenvectors."
      ]
    },
    {
      "cell_type": "code",
      "execution_count": null,
      "metadata": {
        "ExecuteTime": {
          "end_time": "2024-06-20T22:54:03.846840Z",
          "start_time": "2024-06-20T22:54:03.841932Z"
        },
        "id": "3dS2y_22G3pA"
      },
      "outputs": [],
      "source": [
        "def diagonalize(A):\n",
        "    eigenvalues = np.array(compute_eigenvalues(A), float)\n",
        "    P = np.array(compute_eigenvectors(A)).T\n",
        "    D = np.diag(eigenvalues)\n",
        "    P_inv = np.linalg.inv(P)\n",
        "    return P, D, P_inv\n"
      ]
    },
    {
      "cell_type": "markdown",
      "metadata": {
        "id": "llpLrZLcG3pA"
      },
      "source": [
        "to check your answer use the cells below"
      ]
    },
    {
      "cell_type": "code",
      "execution_count": null,
      "metadata": {
        "ExecuteTime": {
          "end_time": "2024-06-20T22:54:03.852263Z",
          "start_time": "2024-06-20T22:54:03.847850Z"
        },
        "id": "gKmDm981G3pB"
      },
      "outputs": [],
      "source": [
        "def check_diagonalization(D, A):\n",
        "    is_diagonal = np.allclose(D, np.diag(np.diagonal(D)))\n",
        "    eigenvalues_A = np.linalg.eigvals(A)\n",
        "    diagonal_entries_D = np.diagonal(D)\n",
        "    has_correct_diagonal = np.allclose(np.sort(eigenvalues_A), np.sort(diagonal_entries_D))\n",
        "    has_all_eigenvalues = set(diagonal_entries_D) >= set(eigenvalues_A)\n",
        "\n",
        "    if is_diagonal and has_correct_diagonal and has_all_eigenvalues:\n",
        "        display(HTML('<font color=\"green\">All conditions satisfied:</font> Matrix D properly diagonalizes matrix A.'))\n",
        "    else:\n",
        "        if not is_diagonal:\n",
        "            display(HTML('<font color=\"red\">Error:</font> Matrix D is not diagonal.'))\n",
        "        if not has_correct_diagonal:\n",
        "            display(HTML('<font color=\"red\">Error:</font> Diagonal entries of D are not eigenvalues of A.'))\n",
        "        if not has_all_eigenvalues:\n",
        "            display(HTML('<font color=\"red\">Error:</font> D does not include all eigenvalues of A.'))\n"
      ]
    },
    {
      "cell_type": "code",
      "execution_count": null,
      "metadata": {
        "ExecuteTime": {
          "end_time": "2024-06-20T22:54:03.858154Z",
          "start_time": "2024-06-20T22:54:03.853852Z"
        },
        "colab": {
          "base_uri": "https://localhost:8080/",
          "height": 34
        },
        "id": "rI9_28RIG3pB",
        "outputId": "ac522ddb-bb64-4fe1-ff6e-3546afea925b"
      },
      "outputs": [
        {
          "data": {
            "text/html": [
              "<font color=\"green\">All conditions satisfied:</font> Matrix D properly diagonalizes matrix A."
            ],
            "text/plain": [
              "<IPython.core.display.HTML object>"
            ]
          },
          "metadata": {},
          "output_type": "display_data"
        }
      ],
      "source": [
        "A = generate_valid_matrix()\n",
        "\n",
        "P, D, P_inv = diagonalize(A)\n",
        "\n",
        "check_diagonalization(D, A)"
      ]
    },
    {
      "cell_type": "markdown",
      "metadata": {
        "id": "F7cqr4RZG3pB"
      },
      "source": [
        "<h3 style='color: green;'>Properties of Diagonalized Matrix</h3>\n",
        "A diagonalized matrix has its eigenvalues on the diagonal. It is easier to compute powers of a diagonal matrix."
      ]
    },
    {
      "cell_type": "markdown",
      "metadata": {
        "id": "J-mkeg0rG3pD"
      },
      "source": [
        "<h3 style='color: red;'>Question</h3>\n",
        "How do you think we can speed up the process of calculating powers of a matrix by using diagonalization?"
      ]
    },
    {
      "cell_type": "markdown",
      "metadata": {
        "id": "ll0pEQQPG3pD"
      },
      "source": [
        "<h3 style='color: yellow;'>Your answer:</h3>\n",
        "\n",
        "When we diagonalize a given matrix A, we turn it A into multiplication of three matrices PDP^(-1). So when we try to calculate powers of A, we must calculate the equation: PDP^(-1)PDP^(-1)P...P^(-1)PDP^(-1).</br>\n",
        "Since P^(-1)P = I, the middle P and P^(-1) terms disappear and the equation turn into PD^(n)P^(-1). </br>\n",
        "Thus we have A^(n) = PD^(n)P^(-1). </br>\n",
        "And since D is a diagonal matrix, we can calculate its powers by calculating powers of its diagonal entries. </br>\n",
        "So diagonalization can speed up the process of calculating powers of a matrix."
      ]
    },
    {
      "cell_type": "markdown",
      "metadata": {
        "id": "0MfFDZNWG3pD"
      },
      "source": [
        "<h3 style='color: green;'>Performance Comparison</h3>\n",
        "We will compare the time taken to compute matrix powers using regular methods versus diagonalization."
      ]
    },
    {
      "cell_type": "markdown",
      "metadata": {
        "id": "XkskzF7lG3pD"
      },
      "source": [
        "First, we will compute the powers of a matrix using the regular method."
      ]
    },
    {
      "cell_type": "code",
      "execution_count": null,
      "metadata": {
        "ExecuteTime": {
          "end_time": "2024-06-20T22:54:03.862049Z",
          "start_time": "2024-06-20T22:54:03.858154Z"
        },
        "id": "kUUJ_6ctG3pD"
      },
      "outputs": [],
      "source": [
        "def compute_powers(A, n):\n",
        "    result = A\n",
        "    for _ in range(n-1):\n",
        "        result = result @ A\n",
        "    return result"
      ]
    },
    {
      "cell_type": "code",
      "execution_count": null,
      "metadata": {
        "ExecuteTime": {
          "end_time": "2024-06-20T22:54:03.865650Z",
          "start_time": "2024-06-20T22:54:03.863108Z"
        },
        "id": "AVuKLc6aG3pD"
      },
      "outputs": [],
      "source": [
        "n_values = range(1, 1000)"
      ]
    },
    {
      "cell_type": "code",
      "execution_count": null,
      "metadata": {
        "ExecuteTime": {
          "end_time": "2024-06-20T22:54:03.910618Z",
          "start_time": "2024-06-20T22:54:03.866646Z"
        },
        "id": "yaw7gGSoG3pD"
      },
      "outputs": [],
      "source": [
        "regular_times = []\n",
        "\n",
        "for n in n_values:\n",
        "    timer = timeit.Timer(lambda: compute_powers(A, n))\n",
        "    regular_times.append(timer.timeit(number=1))"
      ]
    },
    {
      "cell_type": "markdown",
      "metadata": {
        "id": "yDFbIMA9G3pE"
      },
      "source": [
        "Next, we will use your method for calculating power of a matrix."
      ]
    },
    {
      "cell_type": "code",
      "execution_count": null,
      "metadata": {
        "ExecuteTime": {
          "end_time": "2024-06-20T22:54:03.915506Z",
          "start_time": "2024-06-20T22:54:03.911637Z"
        },
        "id": "1VmwTfB8G3pE"
      },
      "outputs": [],
      "source": [
        "def compute_powers_your_way(A, n):\n",
        "    P, D, P_inv = diagonalize(A)\n",
        "\n",
        "    diagonal_D = np.diagonal(D)\n",
        "    powered_diagonal = diagonal_D ** n\n",
        "    powered_D = np.diag(powered_diagonal)\n",
        "\n",
        "    return P @ powered_D @ P_inv"
      ]
    },
    {
      "cell_type": "code",
      "execution_count": null,
      "metadata": {
        "ExecuteTime": {
          "end_time": "2024-06-20T22:54:03.952957Z",
          "start_time": "2024-06-20T22:54:03.916022Z"
        },
        "id": "RxVs7iRZG3pE"
      },
      "outputs": [],
      "source": [
        "diagonal_times = []\n",
        "\n",
        "for n in n_values:\n",
        "    timer = timeit.Timer(lambda: compute_powers_your_way(A, n))\n",
        "    diagonal_times.append(timer.timeit(number=1))"
      ]
    },
    {
      "cell_type": "markdown",
      "metadata": {
        "id": "YBljoByjG3pF"
      },
      "source": [
        "Finally, we will plot the results to compare the performance of both methods."
      ]
    },
    {
      "cell_type": "code",
      "execution_count": null,
      "metadata": {
        "ExecuteTime": {
          "end_time": "2024-06-20T22:54:04.092221Z",
          "start_time": "2024-06-20T22:54:03.955046Z"
        },
        "colab": {
          "base_uri": "https://localhost:8080/",
          "height": 472
        },
        "id": "yzRujDBlG3pF",
        "outputId": "64c85aa5-967c-4deb-8e84-5d4acc44a5a2"
      },
      "outputs": [
        {
          "data": {
            "image/png": "[encoded data removed]",
            "text/plain": [
              "<Figure size 640x480 with 1 Axes>"
            ]
          },
          "metadata": {},
          "output_type": "display_data"
        }
      ],
      "source": [
        "plt.plot(n_values, regular_times, label='Regular Method')\n",
        "plt.plot(n_values, diagonal_times, label='Diagonalization Method')\n",
        "plt.xlabel('Exponent (n)')\n",
        "plt.ylabel('Time (s)')\n",
        "plt.legend()\n",
        "plt.title('Performance Comparison')\n",
        "plt.show()"
      ]
    },
    {
      "cell_type": "markdown",
      "metadata": {
        "id": "5kwiT2jIHGvK"
      },
      "source": [
        "<h3 style='color: green;'>Background: </h3>\n",
        "\n",
        "QR decomposition is a matrix factorization technique that decomposes a matrix\n",
        "𝐴\n",
        "into an orthogonal matrix\n",
        "𝑄\n",
        "and an upper triangular matrix\n",
        "𝑅\n",
        "R. The Gram-Schmidt process is a method for orthogonalizing a set of vectors in an inner product space, which forms the basis of this decomposition.\n",
        "\n",
        "<h3 style='color: green;'>Gram-Schmidt Process: </h3>\n",
        "\n",
        "A method to orthogonalize a set of vectors in an inner product space.\n",
        "\n",
        "<h3 style='color: green;'>Theory: </h3>\n",
        "\n",
        "Given a matrix\n",
        "$ 𝐴 ∈ 𝑅^{𝑚 × 𝑛} $ , QR decomposition aims to find an orthogonal matrix\n",
        "$ Q ∈ 𝑅^{𝑚 × 𝑛} $ and an upper triangular matrix  $ R ∈ 𝑅^{n × 𝑛} $ such that:\n",
        "$ A = Q R $\n",
        "\n",
        "**In the section below, implement QR decompostion step by step :**"
      ]
    },
    {
      "cell_type": "code",
      "execution_count": 3,
      "metadata": {
        "id": "sj-lMxxMHcat"
      },
      "outputs": [],
      "source": [
        "def gram_schmidt(A):\n",
        "    # TODO: define Q and R matrices with correct dimensions\n",
        "    m, n = A.shape\n",
        "    Q = np.zeros((m, n))\n",
        "    R = np.zeros((n, n))\n",
        "\n",
        "    # TODO: complete the loop\n",
        "    for j in range(n):\n",
        "        # TODO: orthogonalize and compute values for R matrix and Q matrix using dot product\n",
        "      v = A[:, j]\n",
        "\n",
        "      for i in range(j):\n",
        "          R[i, j] = np.dot(Q[:, i], A[:, j])\n",
        "          v = v - R[i, j] * Q[:, i]\n",
        "\n",
        "      R[j, j] = np.linalg.norm(v)\n",
        "      Q[:, j] = v / R[j, j]\n",
        "\n",
        "    # TODO: return Q and R matrices\n",
        "    return Q, R\n"
      ]
    },
    {
      "cell_type": "markdown",
      "metadata": {
        "id": "PkYIyxBmHfJ5"
      },
      "source": [
        "Now, let's check if the decompostion. No need to change the following cell."
      ]
    },
    {
      "cell_type": "code",
      "execution_count": 12,
      "metadata": {
        "colab": {
          "base_uri": "https://localhost:8080/"
        },
        "id": "Am892MuUHhFz",
        "outputId": "528b9ac7-3bb9-4990-bbff-e66c19a76e54"
      },
      "outputs": [
        {
          "name": "stdout",
          "output_type": "stream",
          "text": [
            "Matrix A:\n",
            "[[0.67954381 0.05552419 0.83635386 0.75045484]\n",
            " [0.53932517 0.68421052 0.7759735  0.2052242 ]\n",
            " [0.30628407 0.73597372 0.81586984 0.78180355]\n",
            " [0.5413104  0.31708455 0.56328907 0.49445466]]\n",
            "\n",
            "Orthogonal matrix Q:\n",
            "[[ 0.71682991 -0.02507383  0.68937822 -0.10140935]\n",
            " [-0.06667844  0.991828    0.09867632 -0.04576222]\n",
            " [-0.68988523 -0.12385112  0.68226654 -0.2079222 ]\n",
            " [-0.07594232  0.01759023  0.22256016  0.97179747]]\n",
            "\n",
            "Upper triangular matrix R:\n",
            "[[ 0.19874674 -0.53763823 -0.05785128 -0.05264031]\n",
            " [ 0.48946719  0.59165337  0.65752365  0.09660066]\n",
            " [ 0.85112282  0.67849317  1.33514074  1.1810423 ]\n",
            " [ 0.36876801  0.11817502  0.25744107  0.23246083]]\n",
            "\n",
            "Check A = QR: True\n",
            "\n",
            "Check Q^T Q = I: True\n"
          ]
        }
      ],
      "source": [
        "def test_QR_decomposition():\n",
        "    A = np.random.random((4, 4))\n",
        "    # Q, R = gram_schmidt(A)\n",
        "    Q, R = qr_householder(A)\n",
        "    print(\"Matrix A:\")\n",
        "    print(A)\n",
        "    print(\"\\nOrthogonal matrix Q:\")\n",
        "    print(Q)\n",
        "    print(\"\\nUpper triangular matrix R:\")\n",
        "    print(R)\n",
        "    print(f\"\\nCheck A = QR: {np.allclose(A, np.dot(Q, R))}\")\n",
        "    print(f\"\\nCheck Q^T Q = I: {np.allclose(np.dot(Q.T, Q), np.eye(Q.shape[1]))}\")\n",
        "\n",
        "test_QR_decomposition()"
      ]
    },
    {
      "cell_type": "markdown",
      "metadata": {
        "id": "-owPtKScHjlA"
      },
      "source": [
        "In this section, we will implement [Househodler reflection](https://en.wikipedia.org/wiki/Householder_transformation) method to compute QR decomposition.\n",
        "\n",
        "<h3 style='color: green;'>Concept of Householder Reflections: </h3>\n",
        "\n",
        "Householder reflections are used to zero out specific elements of a vector or matrix. A Householder reflection is defined by a vector\n",
        "𝑣 and it generates a matrix  𝐻 such that:\n",
        "$$ 𝐻 = 𝐼 − 2𝑣𝑣^𝑇 $$\n",
        "where  𝑣 is a unit vector. This transformation is used to reflect a vector about a plane or hyperplane. When applied to a vector, it can zero out all elements below the first one, which is useful for transforming a matrix into an upper triangular form.\n",
        "\n",
        "<h3 style='color: green;'>Using Householder Reflections for QR Decomposition: </h3>\n",
        "\n",
        "The goal is to decompose a matrix\n",
        "𝐴 into an orthogonal matrix 𝑄 and an upper triangular matrix 𝑅. Householder reflections are used to systematically zero out the sub-diagonal elements of\n",
        "𝐴 transforming it into\n",
        "𝑅. The orthogonal matrix\n",
        "𝑄 is the product of all Householder matrices used in the process."
      ]
    },
    {
      "cell_type": "code",
      "execution_count": 46,
      "metadata": {
        "id": "YQY0Q_R1HlaK"
      },
      "outputs": [],
      "source": [
        "def householder_reflection(a):\n",
        "    # TODO: compute H and return it from vector a\n",
        "\n",
        "    # Compute the norm of vector a\n",
        "    norm_a = math.sqrt(np.dot(a, a))\n",
        "\n",
        "    # Create the unit vector e1 with the same length as a\n",
        "    e1 = np.zeros_like(a)\n",
        "    e1[0] = 1\n",
        "\n",
        "    # Compute the vector v\n",
        "    v = a + np.sign(a[0]) * norm_a * e1\n",
        "    v = v / math.sqrt(np.dot(v, v))\n",
        "\n",
        "    # Compute the Householder matrix H\n",
        "    H = np.eye(len(a)) - 2 * np.outer(v, v)\n",
        "\n",
        "    # TODO: return H\n",
        "    return H\n",
        "\n",
        "def qr_householder(A):\n",
        "    # TODO: use householder_reflection on R matrix step by step and update Q and R by rules R <- HR and Q <- HQ\n",
        "    m, n = A.shape\n",
        "    Q = np.eye(m)\n",
        "    R = A.copy()\n",
        "\n",
        "    for i in range(min(m, n)):\n",
        "        # TODO: Create the Householder reflection matrix for column i\n",
        "        a = R[i:, i]\n",
        "        H = householder_reflection(a)\n",
        "\n",
        "        H_i = np.eye(m)\n",
        "        H_i[i:, i:] = H\n",
        "\n",
        "        # TODO: Apply the Householder transformation to R\n",
        "        R = np.dot(H_i, R)\n",
        "\n",
        "        # TODO: Accumulate the transformations in Q\n",
        "        Q = np.dot(Q, H_i)\n",
        "\n",
        "    # TODO: return Q and R\n",
        "    return Q, R"
      ]
    },
    {
      "cell_type": "markdown",
      "metadata": {
        "id": "jl--0YygHoHu"
      },
      "source": [
        "Now, let's check if the decompostion.\n"
      ]
    },
    {
      "cell_type": "code",
      "execution_count": 47,
      "metadata": {
        "colab": {
          "base_uri": "https://localhost:8080/"
        },
        "id": "ALYaP8uhHovM",
        "outputId": "df7f49f7-67c6-4fed-a0eb-0da97bbf09bb"
      },
      "outputs": [
        {
          "name": "stdout",
          "output_type": "stream",
          "text": [
            "Matrix A:\n",
            "[[0.55679065 0.23324287 0.5445876  0.75786304]\n",
            " [0.49840027 0.25365993 0.56795931 0.71658988]\n",
            " [0.62239456 0.33929055 0.84289702 0.35108405]\n",
            " [0.28485592 0.23135823 0.31187169 0.28508282]]\n",
            "\n",
            "Orthogonal matrix Q:\n",
            "[[-0.54943982  0.54932492  0.4956167  -0.38822945]\n",
            " [-0.49182032  0.05104294  0.07642405  0.86583298]\n",
            " [-0.61417762 -0.15743405 -0.72244147 -0.27582367]\n",
            " [-0.28109521 -0.81905511  0.47602706 -0.15340288]]\n",
            "\n",
            "Upper triangular matrix R:\n",
            "[[-1.01337878e+00 -5.26326378e-01 -1.18390616e+00 -1.06459697e+00]\n",
            " [ 1.84035236e-17 -1.01837361e-01 -5.99949382e-02  1.64118778e-01]\n",
            " [-3.42427213e-17  2.69096448e-18 -1.47171933e-01  3.12443742e-01]\n",
            " [-1.83870548e-17  2.12517171e-17  1.83773485e-18  1.85652588e-01]]\n",
            "\n",
            "Check A = QR: True\n",
            "\n",
            "Check Q^T Q = I: True\n"
          ]
        }
      ],
      "source": [
        "test_QR_decomposition()"
      ]
    },
    {
      "cell_type": "markdown",
      "metadata": {
        "id": "GKPR8aUzHsZt"
      },
      "source": [
        "<h3 style='color: green;'> Calculating Eigenvalues Using QR Decomposition </h3>\n",
        "\n",
        "Eigenvalues and eigenvectors are fundamental concepts in linear algebra, playing a crucial role in various mathematical and scientific applications. One efficient method to compute eigenvalues of a matrix is through QR decomposition. In this section, we will use QR decomposition to estimate eigenvalues and eigenvectors.\n",
        "\n",
        "The QR algorithm utilizes QR decomposition iteratively to approximate eigenvalues of $ A $. Here’s a step-by-step outline of how this process works:\n",
        "\n",
        "1. **Initial Setup:**\n",
        "   - Start with a square matrix $ A $.\n",
        "\n",
        "2. **QR Decomposition Iteration:**\n",
        "   - Decompose $ A $ into $ Q $ and R such that:\n",
        "\n",
        "     $$ A^{(0)} = Q^{(0)} R^{(0)} $$\n",
        "\n",
        "   - Update $ A $ iteratively:\n",
        "\n",
        "     $$ A^{(k)} = R^{(k-1)} Q^{(k-1)} $$\n",
        "   - Convergence is typically checked by ensuring $ A^{(k)} $ becomes increasingly upper triangular or converges to a diagonal matrix.\n",
        "\n",
        "3. **Extracting Eigenvalues:**\n",
        "   - After convergence, the diagonal elements of the upper triangular matrix $ A^{(k)} $ are the eigenvalues of $ A $."
      ]
    },
    {
      "cell_type": "code",
      "execution_count": 66,
      "metadata": {
        "id": "v7RBDvXKHuAf"
      },
      "outputs": [],
      "source": [
        "def qr_algorithm(A, num_iterations=1000, tol=1e-10):\n",
        "    n = A.shape[0]\n",
        "    B = np.copy(A)\n",
        "    Q_total = np.eye(n)\n",
        "\n",
        "    for _ in range(num_iterations):\n",
        "        # Perform QR decomposition\n",
        "        Q, R = qr_householder(B)\n",
        "\n",
        "        # Update B\n",
        "        B = np.dot(R, Q)\n",
        "\n",
        "        # Accumulate the transformations in Q_total\n",
        "        Q_total = np.dot(Q_total, Q)\n",
        "\n",
        "        # Check for convergence\n",
        "        if np.allclose(B - np.diag(np.diag(B)), np.zeros_like(B), atol=tol):\n",
        "            break\n",
        "\n",
        "    # Extract the eigenvalues\n",
        "    eigenvalues = np.diag(B)\n",
        "\n",
        "    return eigenvalues, Q_total\n",
        "\n",
        "def compute_eigenvectors(A, eigenvalues):\n",
        "    n = A.shape[0]\n",
        "    eigenvectors = np.zeros((n, n))\n",
        "\n",
        "    for i in range(n):\n",
        "        # Construct the matrix (A - lambda * I)\n",
        "        lambda_i = eigenvalues[i]\n",
        "        I = np.eye(n)\n",
        "        M = A - lambda_i * I\n",
        "\n",
        "        # Solve for the null space of (A - lambda * I)\n",
        "        _, _, vh = np.linalg.svd(M)\n",
        "        eigenvector = vh[-1, :]\n",
        "        eigenvectors[:, i] = eigenvector\n",
        "\n",
        "    return eigenvectors"
      ]
    },
    {
      "cell_type": "markdown",
      "metadata": {
        "id": "_uy-zBLoHzC4"
      },
      "source": [
        "Let's verify our results. no need to change the following cell."
      ]
    },
    {
      "cell_type": "code",
      "execution_count": 68,
      "metadata": {
        "colab": {
          "base_uri": "https://localhost:8080/"
        },
        "id": "q4Gxnb1sHwH7",
        "outputId": "91fee1d7-87f3-4f0c-b9d3-88b97ac91ff5"
      },
      "outputs": [
        {
          "name": "stdout",
          "output_type": "stream",
          "text": [
            "Matrix A:\n",
            "[[0.12895128 0.84070734 0.22955585 0.93550801]\n",
            " [0.35992415 0.69265418 0.38556696 0.85568813]\n",
            " [0.59144951 0.86386367 0.8695218  0.58114655]\n",
            " [0.88427129 0.71191464 0.25211455 0.89147718]]\n",
            "\n",
            "Eigenvalues (QR Algorithm):\n",
            "[ 2.50398065  0.5784464  -0.36505381 -0.13476879]\n",
            "\n",
            "Eigenvectors (QR Algorithm):\n",
            "[[-0.42406481 -0.17361441 -0.63969552 -0.23915414]\n",
            " [-0.45570371  0.04241645 -0.37673822 -0.67595123]\n",
            " [-0.58081651  0.92052235  0.28456213  0.38665786]\n",
            " [-0.52455252 -0.34741545  0.60653305  0.57999219]]\n",
            "\n",
            "Verification (A @ eigenvectors - eigenvectors @ np.diag(eigenvalues)):\n",
            "True\n",
            "\n",
            "Eigenvalues (NumPy):\n",
            "[ 2.50398065 -0.36505381 -0.13476879  0.5784464 ]\n",
            "\n",
            "Eigenvectors (NumPy):\n",
            "[[-0.42406481 -0.63969552  0.23915414 -0.17361441]\n",
            " [-0.45570371 -0.37673822  0.67595123  0.04241645]\n",
            " [-0.58081651  0.28456213 -0.38665786  0.92052235]\n",
            " [-0.52455252  0.60653305 -0.57999219 -0.34741545]]\n",
            "\n",
            "Verification with NumPy (Eigenvalues):\n",
            "True\n"
          ]
        }
      ],
      "source": [
        "def test_qr_algorithm():\n",
        "    A = np.random.random((4,4))\n",
        "    eigenvalues, Q_total = qr_algorithm(A)\n",
        "\n",
        "    eigenvectors = compute_eigenvectors(A, eigenvalues)\n",
        "    print(\"Matrix A:\")\n",
        "    print(A)\n",
        "    print(\"\\nEigenvalues (QR Algorithm):\")\n",
        "    print(eigenvalues)\n",
        "    print(\"\\nEigenvectors (QR Algorithm):\")\n",
        "    print(eigenvectors)\n",
        "\n",
        "    # Verify the results\n",
        "    print(\"\\nVerification (A @ eigenvectors - eigenvectors @ np.diag(eigenvalues)):\")\n",
        "    print(np.allclose(A @ eigenvectors, eigenvectors @ np.diag(eigenvalues)))\n",
        "\n",
        "    # Compare with NumPy's eig function\n",
        "    np_eigenvalues, np_eigenvectors = np.linalg.eig(A)\n",
        "    np_eigenvalues = np_eigenvalues.real\n",
        "\n",
        "    print(\"\\nEigenvalues (NumPy):\")\n",
        "    print(np_eigenvalues)\n",
        "\n",
        "    print(\"\\nEigenvectors (NumPy):\")\n",
        "    print(np_eigenvectors)\n",
        "\n",
        "    print(\"\\nVerification with NumPy (Eigenvalues):\")\n",
        "    print(np.allclose(np.sort(eigenvalues), np.sort(np_eigenvalues)))\n",
        "\n",
        "test_qr_algorithm()"
      ]
    },
    {
      "cell_type": "markdown",
      "metadata": {
        "id": "e0DYHfIhH4Jo"
      },
      "source": [
        "<h3 style='color: green;'> Conclusion: </h3>\n",
        "\n",
        "\n",
        "QR decomposition offers a powerful method for computing eigenvalues numerically. Its iterative nature makes it suitable for matrices of varying sizes and complexities, providing a robust approach to solving eigenvalue problems in practice.\n"
      ]
    }
  ],
  "metadata": {
    "colab": {
      "provenance": []
    },
    "kernelspec": {
      "display_name": "Python 3 (ipykernel)",
      "language": "python",
      "name": "python3"
    },
    "language_info": {
      "codemirror_mode": {
        "name": "ipython",
        "version": 3
      },
      "file_extension": ".py",
      "mimetype": "text/x-python",
      "name": "python",
      "nbconvert_exporter": "python",
      "pygments_lexer": "ipython3",
      "version": "3.9.13"
    }
  },
  "nbformat": 4,
  "nbformat_minor": 0
}
